{
  "nbformat": 4,
  "nbformat_minor": 0,
  "metadata": {
    "colab": {
      "name": "Calabria_Day1",
      "provenance": [],
      "collapsed_sections": [],
      "include_colab_link": true
    },
    "kernelspec": {
      "name": "python3",
      "display_name": "Python 3"
    }
  },
  "cells": [
    {
      "cell_type": "markdown",
      "metadata": {
        "id": "view-in-github",
        "colab_type": "text"
      },
      "source": [
        "<a href=\"https://colab.research.google.com/github/hstorm/ML_course_Calabria2020/blob/master/lab/Calabria_Day1.ipynb\" target=\"_parent\"><img src=\"https://colab.research.google.com/assets/colab-badge.svg\" alt=\"Open In Colab\"/></a>"
      ]
    },
    {
      "cell_type": "markdown",
      "metadata": {
        "id": "71QCGinKTAAf",
        "colab_type": "text"
      },
      "source": [
        "# Day 1 Lab"
      ]
    },
    {
      "cell_type": "markdown",
      "metadata": {
        "id": "UBjm-4D-Tg-L",
        "colab_type": "text"
      },
      "source": [
        "# during lecture\n",
        "\n"
      ]
    },
    {
      "cell_type": "code",
      "metadata": {
        "id": "xn9LO_jCSar8",
        "colab_type": "code",
        "colab": {
          "base_uri": "https://localhost:8080/",
          "height": 54
        },
        "outputId": "7ba611dd-08ac-477b-9b92-8ddd9d92fade"
      },
      "source": [
        "# Import libaries that will be used in the notebook\n",
        "import matplotlib.pyplot as plt\n",
        "import numpy as np\n",
        "import pandas as pd\n",
        "from sklearn.metrics import mean_squared_error, r2_score\n",
        "from sklearn.preprocessing import PolynomialFeatures\n",
        "from sklearn.model_selection import train_test_split\n",
        "from sklearn.linear_model import LinearRegression, Lasso\n",
        "from sklearn.preprocessing import MinMaxScaler\n",
        "import seaborn as sns"
      ],
      "execution_count": 1,
      "outputs": [
        {
          "output_type": "stream",
          "text": [
            "/usr/local/lib/python3.6/dist-packages/statsmodels/tools/_testing.py:19: FutureWarning: pandas.util.testing is deprecated. Use the functions in the public API at pandas.testing instead.\n",
            "  import pandas.util.testing as tm\n"
          ],
          "name": "stderr"
        }
      ]
    },
    {
      "cell_type": "code",
      "metadata": {
        "id": "G0aKGu2ArXhh",
        "colab_type": "code",
        "colab": {
          "base_uri": "https://localhost:8080/",
          "height": 217
        },
        "outputId": "9ba9afcf-d3e6-4a4e-9a98-c61fec0cb810"
      },
      "source": [
        "# Download data\n",
        "!wget http://www.ilr.uni-bonn.de/agpo/courses/ml/brazil_all_data_v2.csv"
      ],
      "execution_count": 31,
      "outputs": [
        {
          "output_type": "stream",
          "text": [
            "--2020-07-08 05:16:31--  http://www.ilr.uni-bonn.de/agpo/courses/ml/brazil_all_data_v2.csv\n",
            "Resolving www.ilr.uni-bonn.de (www.ilr.uni-bonn.de)... 131.220.69.2\n",
            "Connecting to www.ilr.uni-bonn.de (www.ilr.uni-bonn.de)|131.220.69.2|:80... connected.\n",
            "HTTP request sent, awaiting response... 200 OK\n",
            "Length: 789226067 (753M) [application/octet-stream]\n",
            "Saving to: ‘brazil_all_data_v2.csv.1’\n",
            "\n",
            "brazil_all_data_v2. 100%[===================>] 752.66M  6.54MB/s    in 2m 17s  \n",
            "\n",
            "2020-07-08 05:18:49 (5.50 MB/s) - ‘brazil_all_data_v2.csv.1’ saved [789226067/789226067]\n",
            "\n"
          ],
          "name": "stdout"
        }
      ]
    },
    {
      "cell_type": "code",
      "metadata": {
        "id": "mystC39Lldkv",
        "colab_type": "code",
        "colab": {}
      },
      "source": [
        "# Load data with pandas into a dataframe \n",
        "df = pd.read_csv('brazil_all_data_v2.csv')"
      ],
      "execution_count": 2,
      "outputs": []
    },
    {
      "cell_type": "code",
      "metadata": {
        "id": "snUuhtBAmtnW",
        "colab_type": "code",
        "colab": {
          "base_uri": "https://localhost:8080/",
          "height": 265
        },
        "outputId": "f50c0b38-9fa1-4145-b7f0-da0fc5622a40"
      },
      "source": [
        "# Have a look at the data\n",
        "print('Number of rows:', df.shape[0])\n",
        "df.head(5)"
      ],
      "execution_count": 3,
      "outputs": [
        {
          "output_type": "stream",
          "text": [
            "Number of rows: 249940\n"
          ],
          "name": "stdout"
        },
        {
          "output_type": "execute_result",
          "data": {
            "text/html": [
              "<div>\n",
              "<style scoped>\n",
              "    .dataframe tbody tr th:only-of-type {\n",
              "        vertical-align: middle;\n",
              "    }\n",
              "\n",
              "    .dataframe tbody tr th {\n",
              "        vertical-align: top;\n",
              "    }\n",
              "\n",
              "    .dataframe thead th {\n",
              "        text-align: right;\n",
              "    }\n",
              "</style>\n",
              "<table border=\"1\" class=\"dataframe\">\n",
              "  <thead>\n",
              "    <tr style=\"text-align: right;\">\n",
              "      <th></th>\n",
              "      <th>id</th>\n",
              "      <th>row</th>\n",
              "      <th>col</th>\n",
              "      <th>lon</th>\n",
              "      <th>lat</th>\n",
              "      <th>bean</th>\n",
              "      <th>carrot</th>\n",
              "      <th>cassava</th>\n",
              "      <th>chickpea</th>\n",
              "      <th>citrus</th>\n",
              "      <th>coffee</th>\n",
              "      <th>groundnut</th>\n",
              "      <th>maize</th>\n",
              "      <th>soy</th>\n",
              "      <th>sugarcane</th>\n",
              "      <th>tomato</th>\n",
              "      <th>wheat</th>\n",
              "      <th>perc_treecover</th>\n",
              "      <th>perm_water</th>\n",
              "      <th>travel_min</th>\n",
              "      <th>defor_2001</th>\n",
              "      <th>defor_2002</th>\n",
              "      <th>defor_2003</th>\n",
              "      <th>defor_2004</th>\n",
              "      <th>defor_2005</th>\n",
              "      <th>defor_2006</th>\n",
              "      <th>defor_2007</th>\n",
              "      <th>defor_2008</th>\n",
              "      <th>defor_2009</th>\n",
              "      <th>defor_2010</th>\n",
              "      <th>defor_2011</th>\n",
              "      <th>defor_2012</th>\n",
              "      <th>defor_2013</th>\n",
              "      <th>defor_2014</th>\n",
              "      <th>defor_2015</th>\n",
              "      <th>defor_2016</th>\n",
              "      <th>defor_2017</th>\n",
              "      <th>defor_2018</th>\n",
              "      <th>wdpa_1990</th>\n",
              "      <th>wdpa_1991</th>\n",
              "      <th>...</th>\n",
              "      <th>tot_defor_2016_lag_1st_order</th>\n",
              "      <th>tot_defor_2017_lag_1st_order</th>\n",
              "      <th>tot_defor_2018_lag_1st_order</th>\n",
              "      <th>tot_defor_2001_lag_2nd_order</th>\n",
              "      <th>tot_defor_2002_lag_2nd_order</th>\n",
              "      <th>tot_defor_2003_lag_2nd_order</th>\n",
              "      <th>tot_defor_2004_lag_2nd_order</th>\n",
              "      <th>tot_defor_2005_lag_2nd_order</th>\n",
              "      <th>tot_defor_2006_lag_2nd_order</th>\n",
              "      <th>tot_defor_2007_lag_2nd_order</th>\n",
              "      <th>tot_defor_2008_lag_2nd_order</th>\n",
              "      <th>tot_defor_2009_lag_2nd_order</th>\n",
              "      <th>tot_defor_2010_lag_2nd_order</th>\n",
              "      <th>tot_defor_2011_lag_2nd_order</th>\n",
              "      <th>tot_defor_2012_lag_2nd_order</th>\n",
              "      <th>tot_defor_2013_lag_2nd_order</th>\n",
              "      <th>tot_defor_2014_lag_2nd_order</th>\n",
              "      <th>tot_defor_2015_lag_2nd_order</th>\n",
              "      <th>tot_defor_2016_lag_2nd_order</th>\n",
              "      <th>tot_defor_2017_lag_2nd_order</th>\n",
              "      <th>tot_defor_2018_lag_2nd_order</th>\n",
              "      <th>tot_defor_2001_lag_3rd_order</th>\n",
              "      <th>tot_defor_2002_lag_3rd_order</th>\n",
              "      <th>tot_defor_2003_lag_3rd_order</th>\n",
              "      <th>tot_defor_2004_lag_3rd_order</th>\n",
              "      <th>tot_defor_2005_lag_3rd_order</th>\n",
              "      <th>tot_defor_2006_lag_3rd_order</th>\n",
              "      <th>tot_defor_2007_lag_3rd_order</th>\n",
              "      <th>tot_defor_2008_lag_3rd_order</th>\n",
              "      <th>tot_defor_2009_lag_3rd_order</th>\n",
              "      <th>tot_defor_2010_lag_3rd_order</th>\n",
              "      <th>tot_defor_2011_lag_3rd_order</th>\n",
              "      <th>tot_defor_2012_lag_3rd_order</th>\n",
              "      <th>tot_defor_2013_lag_3rd_order</th>\n",
              "      <th>tot_defor_2014_lag_3rd_order</th>\n",
              "      <th>tot_defor_2015_lag_3rd_order</th>\n",
              "      <th>tot_defor_2016_lag_3rd_order</th>\n",
              "      <th>tot_defor_2017_lag_3rd_order</th>\n",
              "      <th>tot_defor_2018_lag_3rd_order</th>\n",
              "      <th>s</th>\n",
              "    </tr>\n",
              "  </thead>\n",
              "  <tbody>\n",
              "    <tr>\n",
              "      <th>0</th>\n",
              "      <td>0</td>\n",
              "      <td>0</td>\n",
              "      <td>0</td>\n",
              "      <td>-59.989876</td>\n",
              "      <td>-10.010125</td>\n",
              "      <td>200.00000</td>\n",
              "      <td>335.00000</td>\n",
              "      <td>201.0</td>\n",
              "      <td>0.0</td>\n",
              "      <td>391.0</td>\n",
              "      <td>237.00000</td>\n",
              "      <td>115.0</td>\n",
              "      <td>461.00000</td>\n",
              "      <td>209.00000</td>\n",
              "      <td>1295.0000</td>\n",
              "      <td>357.00000</td>\n",
              "      <td>0.0</td>\n",
              "      <td>99.761093</td>\n",
              "      <td>1.0</td>\n",
              "      <td>2612.6440</td>\n",
              "      <td>0.0</td>\n",
              "      <td>0.0</td>\n",
              "      <td>0.000000</td>\n",
              "      <td>0.009531</td>\n",
              "      <td>0.000000</td>\n",
              "      <td>0.000000</td>\n",
              "      <td>0.000000</td>\n",
              "      <td>0.002500</td>\n",
              "      <td>0.000000</td>\n",
              "      <td>0.000312</td>\n",
              "      <td>0.000000</td>\n",
              "      <td>0.000625</td>\n",
              "      <td>0.000312</td>\n",
              "      <td>0.000000</td>\n",
              "      <td>0.000000</td>\n",
              "      <td>0.000000</td>\n",
              "      <td>0.009531</td>\n",
              "      <td>0.000000</td>\n",
              "      <td>0.0</td>\n",
              "      <td>0.0</td>\n",
              "      <td>...</td>\n",
              "      <td>9.866667</td>\n",
              "      <td>6.600000</td>\n",
              "      <td>0.800000</td>\n",
              "      <td>0.000000</td>\n",
              "      <td>0.000000</td>\n",
              "      <td>10.625000</td>\n",
              "      <td>26.499998</td>\n",
              "      <td>17.500000</td>\n",
              "      <td>2.625000</td>\n",
              "      <td>2.125000</td>\n",
              "      <td>37.375000</td>\n",
              "      <td>1.125000</td>\n",
              "      <td>2.500000</td>\n",
              "      <td>2.500000</td>\n",
              "      <td>11.625000</td>\n",
              "      <td>0.625000</td>\n",
              "      <td>4.125000</td>\n",
              "      <td>4.875000</td>\n",
              "      <td>4.250000</td>\n",
              "      <td>9.875000</td>\n",
              "      <td>1.125000</td>\n",
              "      <td>0.000000</td>\n",
              "      <td>0.000000</td>\n",
              "      <td>5.800000</td>\n",
              "      <td>14.333333</td>\n",
              "      <td>9.800000</td>\n",
              "      <td>1.533333</td>\n",
              "      <td>1.333333</td>\n",
              "      <td>20.000000</td>\n",
              "      <td>0.800000</td>\n",
              "      <td>1.800000</td>\n",
              "      <td>1.333333</td>\n",
              "      <td>6.866667</td>\n",
              "      <td>0.733333</td>\n",
              "      <td>2.200000</td>\n",
              "      <td>4.466667</td>\n",
              "      <td>9.866667</td>\n",
              "      <td>6.600000</td>\n",
              "      <td>0.800000</td>\n",
              "      <td>1</td>\n",
              "    </tr>\n",
              "    <tr>\n",
              "      <th>1</th>\n",
              "      <td>1</td>\n",
              "      <td>0</td>\n",
              "      <td>1</td>\n",
              "      <td>-59.969875</td>\n",
              "      <td>-10.010125</td>\n",
              "      <td>200.00000</td>\n",
              "      <td>335.00000</td>\n",
              "      <td>201.0</td>\n",
              "      <td>0.0</td>\n",
              "      <td>391.0</td>\n",
              "      <td>237.00000</td>\n",
              "      <td>115.0</td>\n",
              "      <td>461.00000</td>\n",
              "      <td>209.00000</td>\n",
              "      <td>1295.0000</td>\n",
              "      <td>357.00000</td>\n",
              "      <td>0.0</td>\n",
              "      <td>99.777657</td>\n",
              "      <td>1.0</td>\n",
              "      <td>2680.3191</td>\n",
              "      <td>0.0</td>\n",
              "      <td>0.0</td>\n",
              "      <td>0.013125</td>\n",
              "      <td>0.008437</td>\n",
              "      <td>0.011875</td>\n",
              "      <td>0.003125</td>\n",
              "      <td>0.000781</td>\n",
              "      <td>0.046719</td>\n",
              "      <td>0.001094</td>\n",
              "      <td>0.002812</td>\n",
              "      <td>0.000000</td>\n",
              "      <td>0.002188</td>\n",
              "      <td>0.000625</td>\n",
              "      <td>0.002344</td>\n",
              "      <td>0.006094</td>\n",
              "      <td>0.000937</td>\n",
              "      <td>0.006562</td>\n",
              "      <td>0.001406</td>\n",
              "      <td>0.0</td>\n",
              "      <td>0.0</td>\n",
              "      <td>...</td>\n",
              "      <td>9.473684</td>\n",
              "      <td>6.210527</td>\n",
              "      <td>2.000000</td>\n",
              "      <td>0.000000</td>\n",
              "      <td>0.000000</td>\n",
              "      <td>0.272727</td>\n",
              "      <td>19.999998</td>\n",
              "      <td>5.818181</td>\n",
              "      <td>0.272727</td>\n",
              "      <td>1.363636</td>\n",
              "      <td>1.545454</td>\n",
              "      <td>0.363636</td>\n",
              "      <td>0.363636</td>\n",
              "      <td>1.818182</td>\n",
              "      <td>7.909091</td>\n",
              "      <td>0.818182</td>\n",
              "      <td>1.636364</td>\n",
              "      <td>1.272727</td>\n",
              "      <td>12.909090</td>\n",
              "      <td>10.181818</td>\n",
              "      <td>0.000000</td>\n",
              "      <td>0.000000</td>\n",
              "      <td>0.000000</td>\n",
              "      <td>0.157895</td>\n",
              "      <td>12.052631</td>\n",
              "      <td>3.842105</td>\n",
              "      <td>0.157895</td>\n",
              "      <td>0.894737</td>\n",
              "      <td>0.894737</td>\n",
              "      <td>1.000000</td>\n",
              "      <td>1.052631</td>\n",
              "      <td>2.000000</td>\n",
              "      <td>5.105263</td>\n",
              "      <td>0.526316</td>\n",
              "      <td>0.947368</td>\n",
              "      <td>1.473684</td>\n",
              "      <td>9.473684</td>\n",
              "      <td>6.210527</td>\n",
              "      <td>2.000000</td>\n",
              "      <td>1</td>\n",
              "    </tr>\n",
              "    <tr>\n",
              "      <th>2</th>\n",
              "      <td>2</td>\n",
              "      <td>0</td>\n",
              "      <td>2</td>\n",
              "      <td>-59.949875</td>\n",
              "      <td>-10.010125</td>\n",
              "      <td>200.00000</td>\n",
              "      <td>335.00000</td>\n",
              "      <td>201.0</td>\n",
              "      <td>0.0</td>\n",
              "      <td>391.0</td>\n",
              "      <td>237.00000</td>\n",
              "      <td>115.0</td>\n",
              "      <td>461.00000</td>\n",
              "      <td>209.00000</td>\n",
              "      <td>1295.0000</td>\n",
              "      <td>357.00000</td>\n",
              "      <td>0.0</td>\n",
              "      <td>99.766403</td>\n",
              "      <td>1.0</td>\n",
              "      <td>2796.3284</td>\n",
              "      <td>0.0</td>\n",
              "      <td>0.0</td>\n",
              "      <td>0.000000</td>\n",
              "      <td>0.024531</td>\n",
              "      <td>0.009375</td>\n",
              "      <td>0.000000</td>\n",
              "      <td>0.000156</td>\n",
              "      <td>0.000000</td>\n",
              "      <td>0.000000</td>\n",
              "      <td>0.000000</td>\n",
              "      <td>0.000312</td>\n",
              "      <td>0.000156</td>\n",
              "      <td>0.000000</td>\n",
              "      <td>0.000000</td>\n",
              "      <td>0.000000</td>\n",
              "      <td>0.001719</td>\n",
              "      <td>0.005313</td>\n",
              "      <td>0.000000</td>\n",
              "      <td>0.0</td>\n",
              "      <td>0.0</td>\n",
              "      <td>...</td>\n",
              "      <td>8.695652</td>\n",
              "      <td>11.217392</td>\n",
              "      <td>5.173913</td>\n",
              "      <td>0.000000</td>\n",
              "      <td>0.000000</td>\n",
              "      <td>6.214286</td>\n",
              "      <td>8.785713</td>\n",
              "      <td>5.857143</td>\n",
              "      <td>1.642857</td>\n",
              "      <td>1.500000</td>\n",
              "      <td>22.571428</td>\n",
              "      <td>1.785714</td>\n",
              "      <td>2.214286</td>\n",
              "      <td>2.571429</td>\n",
              "      <td>7.142858</td>\n",
              "      <td>1.000000</td>\n",
              "      <td>2.357143</td>\n",
              "      <td>3.785714</td>\n",
              "      <td>12.500000</td>\n",
              "      <td>8.571429</td>\n",
              "      <td>3.142857</td>\n",
              "      <td>0.086957</td>\n",
              "      <td>1.826087</td>\n",
              "      <td>6.869565</td>\n",
              "      <td>7.086957</td>\n",
              "      <td>8.260869</td>\n",
              "      <td>1.782609</td>\n",
              "      <td>4.347826</td>\n",
              "      <td>18.043478</td>\n",
              "      <td>1.956522</td>\n",
              "      <td>3.652174</td>\n",
              "      <td>1.652174</td>\n",
              "      <td>5.913043</td>\n",
              "      <td>4.086957</td>\n",
              "      <td>4.521739</td>\n",
              "      <td>4.956522</td>\n",
              "      <td>8.695652</td>\n",
              "      <td>11.217392</td>\n",
              "      <td>5.173913</td>\n",
              "      <td>1</td>\n",
              "    </tr>\n",
              "    <tr>\n",
              "      <th>3</th>\n",
              "      <td>3</td>\n",
              "      <td>0</td>\n",
              "      <td>3</td>\n",
              "      <td>-59.929874</td>\n",
              "      <td>-10.010125</td>\n",
              "      <td>200.00000</td>\n",
              "      <td>335.00000</td>\n",
              "      <td>201.0</td>\n",
              "      <td>0.0</td>\n",
              "      <td>391.0</td>\n",
              "      <td>237.00000</td>\n",
              "      <td>115.0</td>\n",
              "      <td>461.00000</td>\n",
              "      <td>209.00000</td>\n",
              "      <td>1295.0000</td>\n",
              "      <td>357.00000</td>\n",
              "      <td>0.0</td>\n",
              "      <td>99.814842</td>\n",
              "      <td>1.0</td>\n",
              "      <td>2920.0164</td>\n",
              "      <td>0.0</td>\n",
              "      <td>0.0</td>\n",
              "      <td>0.000000</td>\n",
              "      <td>0.000000</td>\n",
              "      <td>0.000000</td>\n",
              "      <td>0.000000</td>\n",
              "      <td>0.000000</td>\n",
              "      <td>0.000156</td>\n",
              "      <td>0.000000</td>\n",
              "      <td>0.000000</td>\n",
              "      <td>0.000000</td>\n",
              "      <td>0.000469</td>\n",
              "      <td>0.000000</td>\n",
              "      <td>0.000000</td>\n",
              "      <td>0.002188</td>\n",
              "      <td>0.017812</td>\n",
              "      <td>0.000469</td>\n",
              "      <td>0.000000</td>\n",
              "      <td>0.0</td>\n",
              "      <td>0.0</td>\n",
              "      <td>...</td>\n",
              "      <td>5.888889</td>\n",
              "      <td>19.629629</td>\n",
              "      <td>6.518518</td>\n",
              "      <td>0.142857</td>\n",
              "      <td>2.928571</td>\n",
              "      <td>11.285714</td>\n",
              "      <td>18.214285</td>\n",
              "      <td>17.214285</td>\n",
              "      <td>2.928571</td>\n",
              "      <td>6.142857</td>\n",
              "      <td>28.428572</td>\n",
              "      <td>3.142857</td>\n",
              "      <td>5.357143</td>\n",
              "      <td>2.785714</td>\n",
              "      <td>8.428572</td>\n",
              "      <td>5.857142</td>\n",
              "      <td>7.214285</td>\n",
              "      <td>6.142857</td>\n",
              "      <td>6.785714</td>\n",
              "      <td>15.785715</td>\n",
              "      <td>8.214286</td>\n",
              "      <td>1.222222</td>\n",
              "      <td>2.777778</td>\n",
              "      <td>5.925926</td>\n",
              "      <td>12.185184</td>\n",
              "      <td>10.740741</td>\n",
              "      <td>2.074074</td>\n",
              "      <td>4.370370</td>\n",
              "      <td>15.555556</td>\n",
              "      <td>1.666667</td>\n",
              "      <td>3.814815</td>\n",
              "      <td>2.666667</td>\n",
              "      <td>5.407407</td>\n",
              "      <td>4.000000</td>\n",
              "      <td>3.925926</td>\n",
              "      <td>3.703704</td>\n",
              "      <td>5.888889</td>\n",
              "      <td>19.629629</td>\n",
              "      <td>6.518518</td>\n",
              "      <td>1</td>\n",
              "    </tr>\n",
              "    <tr>\n",
              "      <th>4</th>\n",
              "      <td>4</td>\n",
              "      <td>0</td>\n",
              "      <td>4</td>\n",
              "      <td>-59.909874</td>\n",
              "      <td>-10.010125</td>\n",
              "      <td>218.33334</td>\n",
              "      <td>435.83334</td>\n",
              "      <td>216.0</td>\n",
              "      <td>0.0</td>\n",
              "      <td>523.5</td>\n",
              "      <td>317.83331</td>\n",
              "      <td>117.5</td>\n",
              "      <td>522.66663</td>\n",
              "      <td>233.16666</td>\n",
              "      <td>1300.8334</td>\n",
              "      <td>482.83331</td>\n",
              "      <td>0.0</td>\n",
              "      <td>99.655937</td>\n",
              "      <td>1.0</td>\n",
              "      <td>2977.4216</td>\n",
              "      <td>0.0</td>\n",
              "      <td>0.0</td>\n",
              "      <td>0.000000</td>\n",
              "      <td>0.000469</td>\n",
              "      <td>0.000312</td>\n",
              "      <td>0.000000</td>\n",
              "      <td>0.000156</td>\n",
              "      <td>0.000000</td>\n",
              "      <td>0.000000</td>\n",
              "      <td>0.000000</td>\n",
              "      <td>0.000000</td>\n",
              "      <td>0.000000</td>\n",
              "      <td>0.000156</td>\n",
              "      <td>0.000000</td>\n",
              "      <td>0.000000</td>\n",
              "      <td>0.005625</td>\n",
              "      <td>0.000000</td>\n",
              "      <td>0.005469</td>\n",
              "      <td>0.0</td>\n",
              "      <td>0.0</td>\n",
              "      <td>...</td>\n",
              "      <td>8.888889</td>\n",
              "      <td>18.888889</td>\n",
              "      <td>5.222222</td>\n",
              "      <td>2.357143</td>\n",
              "      <td>5.285714</td>\n",
              "      <td>5.285714</td>\n",
              "      <td>14.785714</td>\n",
              "      <td>14.357142</td>\n",
              "      <td>2.571429</td>\n",
              "      <td>6.500000</td>\n",
              "      <td>7.571428</td>\n",
              "      <td>2.642857</td>\n",
              "      <td>5.285714</td>\n",
              "      <td>3.857143</td>\n",
              "      <td>3.642857</td>\n",
              "      <td>6.142857</td>\n",
              "      <td>5.000000</td>\n",
              "      <td>4.357143</td>\n",
              "      <td>15.285714</td>\n",
              "      <td>29.714287</td>\n",
              "      <td>9.142857</td>\n",
              "      <td>10.185184</td>\n",
              "      <td>3.111111</td>\n",
              "      <td>5.925926</td>\n",
              "      <td>9.777778</td>\n",
              "      <td>10.740741</td>\n",
              "      <td>2.148148</td>\n",
              "      <td>4.111111</td>\n",
              "      <td>15.000001</td>\n",
              "      <td>1.851852</td>\n",
              "      <td>8.296296</td>\n",
              "      <td>2.629630</td>\n",
              "      <td>5.222222</td>\n",
              "      <td>7.592592</td>\n",
              "      <td>5.370370</td>\n",
              "      <td>4.481482</td>\n",
              "      <td>8.888889</td>\n",
              "      <td>18.888889</td>\n",
              "      <td>5.222222</td>\n",
              "      <td>1</td>\n",
              "    </tr>\n",
              "  </tbody>\n",
              "</table>\n",
              "<p>5 rows × 426 columns</p>\n",
              "</div>"
            ],
            "text/plain": [
              "   id  row  col  ...  tot_defor_2017_lag_3rd_order  tot_defor_2018_lag_3rd_order  s\n",
              "0   0    0    0  ...                      6.600000                      0.800000  1\n",
              "1   1    0    1  ...                      6.210527                      2.000000  1\n",
              "2   2    0    2  ...                     11.217392                      5.173913  1\n",
              "3   3    0    3  ...                     19.629629                      6.518518  1\n",
              "4   4    0    4  ...                     18.888889                      5.222222  1\n",
              "\n",
              "[5 rows x 426 columns]"
            ]
          },
          "metadata": {
            "tags": []
          },
          "execution_count": 3
        }
      ]
    },
    {
      "cell_type": "code",
      "metadata": {
        "id": "z2ZGZoInoHAV",
        "colab_type": "code",
        "colab": {}
      },
      "source": [
        "# Define target (dependent) variable (% forest cover for 2018)\n",
        "strY = 'perc_treecover'\n",
        "\n",
        "\n",
        "# Define a list of features names (explantory variables)\n",
        "lstX = [\n",
        "  'wdpa_2017',\n",
        "  'population_2015',\n",
        "  'chirps_2017',\n",
        "  'maize',\n",
        "  'soy',\n",
        "  'sugarcane',\n",
        "  'perm_water',\n",
        "  'travel_min',\n",
        "  'cropland',\n",
        "  'mean_elev',\n",
        "  'sd_elev',\n",
        "  'near_road',\n",
        " ]\n",
        "\n"
      ],
      "execution_count": 4,
      "outputs": []
    },
    {
      "cell_type": "markdown",
      "metadata": {
        "id": "hRd3KIDXp152",
        "colab_type": "text"
      },
      "source": [
        "Run OLS on forest cover"
      ]
    },
    {
      "cell_type": "code",
      "metadata": {
        "id": "bkQjti6z028V",
        "colab_type": "code",
        "colab": {}
      },
      "source": [
        "# Get target variable and features\n",
        "Y_all = df[strY]\n",
        "X_all = df.loc[:,lstX]\n"
      ],
      "execution_count": 5,
      "outputs": []
    },
    {
      "cell_type": "code",
      "metadata": {
        "id": "dSjHfg6PmxDA",
        "colab_type": "code",
        "colab": {
          "base_uri": "https://localhost:8080/",
          "height": 35
        },
        "outputId": "9594b265-66a3-4718-e6a1-f8b2fb4c2b9c"
      },
      "source": [
        "# Run OLS using sklearn\n",
        "# We run an regression using sklearn which is one of the most popular \n",
        "# libaries for machine learning \n",
        " \n",
        "# Define model (automatically add a constant and normalize the data) \n",
        "regOls = LinearRegression(fit_intercept=True, normalize=True)\n",
        "# Fit model\n",
        "regOls.fit(X_all, Y_all)\n"
      ],
      "execution_count": 6,
      "outputs": [
        {
          "output_type": "execute_result",
          "data": {
            "text/plain": [
              "LinearRegression(copy_X=True, fit_intercept=True, n_jobs=None, normalize=True)"
            ]
          },
          "metadata": {
            "tags": []
          },
          "execution_count": 6
        }
      ]
    },
    {
      "cell_type": "code",
      "metadata": {
        "id": "toJ0q4YvoEs9",
        "colab_type": "code",
        "colab": {
          "base_uri": "https://localhost:8080/",
          "height": 438
        },
        "outputId": "1382e5c5-e9b7-4870-963e-732407103a6e"
      },
      "source": [
        "from scipy.stats import norm\n",
        "# View regression results\n",
        "# Note: Sklearn is not econometric package and does not provide our classical \n",
        "# regression table output. This is not what the machine learning community\n",
        "# looks at. However, we can calculate these things manually.\n",
        "\n",
        "# Get coef\n",
        "coefs = np.hstack((regOls.intercept_,regOls.coef_))\n",
        "\n",
        "N = Y_all.shape[0]\n",
        "K = coefs.shape[0]\n",
        "\n",
        "# Get predicted values y hat\n",
        "Y_hat = regOls.predict(X_all)\n",
        "# Get errors\n",
        "err = Y_all-Y_hat\n",
        "# Get standard error of regression\n",
        "sig2 = (err.transpose() @ err) / (N-K)\n",
        "sig2\n",
        "\n",
        "# Add constant to X_all (sklearn did this automatically)\n",
        "Xc_all = np.insert(np.array(X_all), 0, 1, axis = 1)\n",
        "\n",
        "# Covariance matrix for coef\n",
        "VarBeta = sig2 * np.linalg.inv(Xc_all.T @ Xc_all)\n",
        "# Standard error of coef\n",
        "se = np.sqrt(np.diag(VarBeta))\n",
        "# t-values\n",
        "t =  coefs/se\n",
        "# p-values  \n",
        "p = (1 - norm.cdf(abs(t))) * 2\n",
        "# Prepare df as output\n",
        "resOls = pd.DataFrame(coefs,index=['const']+lstX,columns=['beta'])\n",
        "resOls['SE'] = se\n",
        "resOls['t'] = t\n",
        "resOls['p-value'] = p\n",
        "resOls"
      ],
      "execution_count": 7,
      "outputs": [
        {
          "output_type": "execute_result",
          "data": {
            "text/html": [
              "<div>\n",
              "<style scoped>\n",
              "    .dataframe tbody tr th:only-of-type {\n",
              "        vertical-align: middle;\n",
              "    }\n",
              "\n",
              "    .dataframe tbody tr th {\n",
              "        vertical-align: top;\n",
              "    }\n",
              "\n",
              "    .dataframe thead th {\n",
              "        text-align: right;\n",
              "    }\n",
              "</style>\n",
              "<table border=\"1\" class=\"dataframe\">\n",
              "  <thead>\n",
              "    <tr style=\"text-align: right;\">\n",
              "      <th></th>\n",
              "      <th>beta</th>\n",
              "      <th>SE</th>\n",
              "      <th>t</th>\n",
              "      <th>p-value</th>\n",
              "    </tr>\n",
              "  </thead>\n",
              "  <tbody>\n",
              "    <tr>\n",
              "      <th>const</th>\n",
              "      <td>-5.831235</td>\n",
              "      <td>1.324112</td>\n",
              "      <td>-4.403882</td>\n",
              "      <td>0.000011</td>\n",
              "    </tr>\n",
              "    <tr>\n",
              "      <th>wdpa_2017</th>\n",
              "      <td>11.427969</td>\n",
              "      <td>0.156940</td>\n",
              "      <td>72.817276</td>\n",
              "      <td>0.000000</td>\n",
              "    </tr>\n",
              "    <tr>\n",
              "      <th>population_2015</th>\n",
              "      <td>-0.008522</td>\n",
              "      <td>0.000677</td>\n",
              "      <td>-12.595832</td>\n",
              "      <td>0.000000</td>\n",
              "    </tr>\n",
              "    <tr>\n",
              "      <th>chirps_2017</th>\n",
              "      <td>0.036649</td>\n",
              "      <td>0.000314</td>\n",
              "      <td>116.867636</td>\n",
              "      <td>0.000000</td>\n",
              "    </tr>\n",
              "    <tr>\n",
              "      <th>maize</th>\n",
              "      <td>0.019095</td>\n",
              "      <td>0.000159</td>\n",
              "      <td>120.445045</td>\n",
              "      <td>0.000000</td>\n",
              "    </tr>\n",
              "    <tr>\n",
              "      <th>soy</th>\n",
              "      <td>-0.030865</td>\n",
              "      <td>0.000407</td>\n",
              "      <td>-75.758273</td>\n",
              "      <td>0.000000</td>\n",
              "    </tr>\n",
              "    <tr>\n",
              "      <th>sugarcane</th>\n",
              "      <td>-0.003199</td>\n",
              "      <td>0.000141</td>\n",
              "      <td>-22.739455</td>\n",
              "      <td>0.000000</td>\n",
              "    </tr>\n",
              "    <tr>\n",
              "      <th>perm_water</th>\n",
              "      <td>-21.908606</td>\n",
              "      <td>1.184469</td>\n",
              "      <td>-18.496556</td>\n",
              "      <td>0.000000</td>\n",
              "    </tr>\n",
              "    <tr>\n",
              "      <th>travel_min</th>\n",
              "      <td>0.019945</td>\n",
              "      <td>0.000139</td>\n",
              "      <td>143.456389</td>\n",
              "      <td>0.000000</td>\n",
              "    </tr>\n",
              "    <tr>\n",
              "      <th>cropland</th>\n",
              "      <td>-1.174515</td>\n",
              "      <td>0.540421</td>\n",
              "      <td>-2.173335</td>\n",
              "      <td>0.029755</td>\n",
              "    </tr>\n",
              "    <tr>\n",
              "      <th>mean_elev</th>\n",
              "      <td>-0.023366</td>\n",
              "      <td>0.000449</td>\n",
              "      <td>-51.999590</td>\n",
              "      <td>0.000000</td>\n",
              "    </tr>\n",
              "    <tr>\n",
              "      <th>sd_elev</th>\n",
              "      <td>0.417715</td>\n",
              "      <td>0.004348</td>\n",
              "      <td>96.080777</td>\n",
              "      <td>0.000000</td>\n",
              "    </tr>\n",
              "    <tr>\n",
              "      <th>near_road</th>\n",
              "      <td>0.069442</td>\n",
              "      <td>0.001149</td>\n",
              "      <td>60.442058</td>\n",
              "      <td>0.000000</td>\n",
              "    </tr>\n",
              "  </tbody>\n",
              "</table>\n",
              "</div>"
            ],
            "text/plain": [
              "                      beta        SE           t   p-value\n",
              "const            -5.831235  1.324112   -4.403882  0.000011\n",
              "wdpa_2017        11.427969  0.156940   72.817276  0.000000\n",
              "population_2015  -0.008522  0.000677  -12.595832  0.000000\n",
              "chirps_2017       0.036649  0.000314  116.867636  0.000000\n",
              "maize             0.019095  0.000159  120.445045  0.000000\n",
              "soy              -0.030865  0.000407  -75.758273  0.000000\n",
              "sugarcane        -0.003199  0.000141  -22.739455  0.000000\n",
              "perm_water      -21.908606  1.184469  -18.496556  0.000000\n",
              "travel_min        0.019945  0.000139  143.456389  0.000000\n",
              "cropland         -1.174515  0.540421   -2.173335  0.029755\n",
              "mean_elev        -0.023366  0.000449  -51.999590  0.000000\n",
              "sd_elev           0.417715  0.004348   96.080777  0.000000\n",
              "near_road         0.069442  0.001149   60.442058  0.000000"
            ]
          },
          "metadata": {
            "tags": []
          },
          "execution_count": 7
        }
      ]
    },
    {
      "cell_type": "code",
      "metadata": {
        "id": "MUQqGRpAYG1p",
        "colab_type": "code",
        "colab": {
          "base_uri": "https://localhost:8080/",
          "height": 708
        },
        "outputId": "5f9e6ee3-476f-487e-f10f-613953d61f94"
      },
      "source": [
        "# To confirm the results we can use the OLS function in the statsmodel libary.\n",
        "# This is more a statistical libary, not typically used for machine learning, \n",
        "# but providing our typicall regression output\n",
        "\n",
        "import statsmodels.api as sm\n",
        "\n",
        "olsStats = sm.OLS(Y_all, np.insert(np.array(X_all), 0, 1, axis = 1))\n",
        "# Set the names of the explanatory variables\n",
        "olsStats.data.xnames = ['const']+lstX\n",
        "olsStats_result = olsStats.fit()\n",
        "olsStats_result.summary()"
      ],
      "execution_count": 8,
      "outputs": [
        {
          "output_type": "execute_result",
          "data": {
            "text/html": [
              "<table class=\"simpletable\">\n",
              "<caption>OLS Regression Results</caption>\n",
              "<tr>\n",
              "  <th>Dep. Variable:</th>     <td>perc_treecover</td>  <th>  R-squared:         </th>  <td>   0.448</td>  \n",
              "</tr>\n",
              "<tr>\n",
              "  <th>Model:</th>                   <td>OLS</td>       <th>  Adj. R-squared:    </th>  <td>   0.448</td>  \n",
              "</tr>\n",
              "<tr>\n",
              "  <th>Method:</th>             <td>Least Squares</td>  <th>  F-statistic:       </th>  <td>1.688e+04</td> \n",
              "</tr>\n",
              "<tr>\n",
              "  <th>Date:</th>             <td>Wed, 08 Jul 2020</td> <th>  Prob (F-statistic):</th>   <td>  0.00</td>   \n",
              "</tr>\n",
              "<tr>\n",
              "  <th>Time:</th>                 <td>05:25:53</td>     <th>  Log-Likelihood:    </th> <td>-1.1677e+06</td>\n",
              "</tr>\n",
              "<tr>\n",
              "  <th>No. Observations:</th>      <td>249940</td>      <th>  AIC:               </th>  <td>2.335e+06</td> \n",
              "</tr>\n",
              "<tr>\n",
              "  <th>Df Residuals:</th>          <td>249927</td>      <th>  BIC:               </th>  <td>2.336e+06</td> \n",
              "</tr>\n",
              "<tr>\n",
              "  <th>Df Model:</th>              <td>    12</td>      <th>                     </th>      <td> </td>     \n",
              "</tr>\n",
              "<tr>\n",
              "  <th>Covariance Type:</th>      <td>nonrobust</td>    <th>                     </th>      <td> </td>     \n",
              "</tr>\n",
              "</table>\n",
              "<table class=\"simpletable\">\n",
              "<tr>\n",
              "         <td></td>            <th>coef</th>     <th>std err</th>      <th>t</th>      <th>P>|t|</th>  <th>[0.025</th>    <th>0.975]</th>  \n",
              "</tr>\n",
              "<tr>\n",
              "  <th>const</th>           <td>   -5.8312</td> <td>    1.324</td> <td>   -4.404</td> <td> 0.000</td> <td>   -8.426</td> <td>   -3.236</td>\n",
              "</tr>\n",
              "<tr>\n",
              "  <th>wdpa_2017</th>       <td>   11.4280</td> <td>    0.157</td> <td>   72.817</td> <td> 0.000</td> <td>   11.120</td> <td>   11.736</td>\n",
              "</tr>\n",
              "<tr>\n",
              "  <th>population_2015</th> <td>   -0.0085</td> <td>    0.001</td> <td>  -12.596</td> <td> 0.000</td> <td>   -0.010</td> <td>   -0.007</td>\n",
              "</tr>\n",
              "<tr>\n",
              "  <th>chirps_2017</th>     <td>    0.0366</td> <td>    0.000</td> <td>  116.868</td> <td> 0.000</td> <td>    0.036</td> <td>    0.037</td>\n",
              "</tr>\n",
              "<tr>\n",
              "  <th>maize</th>           <td>    0.0191</td> <td>    0.000</td> <td>  120.445</td> <td> 0.000</td> <td>    0.019</td> <td>    0.019</td>\n",
              "</tr>\n",
              "<tr>\n",
              "  <th>soy</th>             <td>   -0.0309</td> <td>    0.000</td> <td>  -75.758</td> <td> 0.000</td> <td>   -0.032</td> <td>   -0.030</td>\n",
              "</tr>\n",
              "<tr>\n",
              "  <th>sugarcane</th>       <td>   -0.0032</td> <td>    0.000</td> <td>  -22.739</td> <td> 0.000</td> <td>   -0.003</td> <td>   -0.003</td>\n",
              "</tr>\n",
              "<tr>\n",
              "  <th>perm_water</th>      <td>  -21.9086</td> <td>    1.184</td> <td>  -18.497</td> <td> 0.000</td> <td>  -24.230</td> <td>  -19.587</td>\n",
              "</tr>\n",
              "<tr>\n",
              "  <th>travel_min</th>      <td>    0.0199</td> <td>    0.000</td> <td>  143.456</td> <td> 0.000</td> <td>    0.020</td> <td>    0.020</td>\n",
              "</tr>\n",
              "<tr>\n",
              "  <th>cropland</th>        <td>   -1.1745</td> <td>    0.540</td> <td>   -2.173</td> <td> 0.030</td> <td>   -2.234</td> <td>   -0.115</td>\n",
              "</tr>\n",
              "<tr>\n",
              "  <th>mean_elev</th>       <td>   -0.0234</td> <td>    0.000</td> <td>  -52.000</td> <td> 0.000</td> <td>   -0.024</td> <td>   -0.022</td>\n",
              "</tr>\n",
              "<tr>\n",
              "  <th>sd_elev</th>         <td>    0.4177</td> <td>    0.004</td> <td>   96.081</td> <td> 0.000</td> <td>    0.409</td> <td>    0.426</td>\n",
              "</tr>\n",
              "<tr>\n",
              "  <th>near_road</th>       <td>    0.0694</td> <td>    0.001</td> <td>   60.442</td> <td> 0.000</td> <td>    0.067</td> <td>    0.072</td>\n",
              "</tr>\n",
              "</table>\n",
              "<table class=\"simpletable\">\n",
              "<tr>\n",
              "  <th>Omnibus:</th>       <td>2376.776</td> <th>  Durbin-Watson:     </th> <td>   0.468</td>\n",
              "</tr>\n",
              "<tr>\n",
              "  <th>Prob(Omnibus):</th>  <td> 0.000</td>  <th>  Jarque-Bera (JB):  </th> <td>1780.521</td>\n",
              "</tr>\n",
              "<tr>\n",
              "  <th>Skew:</th>           <td> 0.113</td>  <th>  Prob(JB):          </th> <td>    0.00</td>\n",
              "</tr>\n",
              "<tr>\n",
              "  <th>Kurtosis:</th>       <td> 2.654</td>  <th>  Cond. No.          </th> <td>1.27e+05</td>\n",
              "</tr>\n",
              "</table><br/><br/>Warnings:<br/>[1] Standard Errors assume that the covariance matrix of the errors is correctly specified.<br/>[2] The condition number is large, 1.27e+05. This might indicate that there are<br/>strong multicollinearity or other numerical problems."
            ],
            "text/plain": [
              "<class 'statsmodels.iolib.summary.Summary'>\n",
              "\"\"\"\n",
              "                            OLS Regression Results                            \n",
              "==============================================================================\n",
              "Dep. Variable:         perc_treecover   R-squared:                       0.448\n",
              "Model:                            OLS   Adj. R-squared:                  0.448\n",
              "Method:                 Least Squares   F-statistic:                 1.688e+04\n",
              "Date:                Wed, 08 Jul 2020   Prob (F-statistic):               0.00\n",
              "Time:                        05:25:53   Log-Likelihood:            -1.1677e+06\n",
              "No. Observations:              249940   AIC:                         2.335e+06\n",
              "Df Residuals:                  249927   BIC:                         2.336e+06\n",
              "Df Model:                          12                                         \n",
              "Covariance Type:            nonrobust                                         \n",
              "===================================================================================\n",
              "                      coef    std err          t      P>|t|      [0.025      0.975]\n",
              "-----------------------------------------------------------------------------------\n",
              "const              -5.8312      1.324     -4.404      0.000      -8.426      -3.236\n",
              "wdpa_2017          11.4280      0.157     72.817      0.000      11.120      11.736\n",
              "population_2015    -0.0085      0.001    -12.596      0.000      -0.010      -0.007\n",
              "chirps_2017         0.0366      0.000    116.868      0.000       0.036       0.037\n",
              "maize               0.0191      0.000    120.445      0.000       0.019       0.019\n",
              "soy                -0.0309      0.000    -75.758      0.000      -0.032      -0.030\n",
              "sugarcane          -0.0032      0.000    -22.739      0.000      -0.003      -0.003\n",
              "perm_water        -21.9086      1.184    -18.497      0.000     -24.230     -19.587\n",
              "travel_min          0.0199      0.000    143.456      0.000       0.020       0.020\n",
              "cropland           -1.1745      0.540     -2.173      0.030      -2.234      -0.115\n",
              "mean_elev          -0.0234      0.000    -52.000      0.000      -0.024      -0.022\n",
              "sd_elev             0.4177      0.004     96.081      0.000       0.409       0.426\n",
              "near_road           0.0694      0.001     60.442      0.000       0.067       0.072\n",
              "==============================================================================\n",
              "Omnibus:                     2376.776   Durbin-Watson:                   0.468\n",
              "Prob(Omnibus):                  0.000   Jarque-Bera (JB):             1780.521\n",
              "Skew:                           0.113   Prob(JB):                         0.00\n",
              "Kurtosis:                       2.654   Cond. No.                     1.27e+05\n",
              "==============================================================================\n",
              "\n",
              "Warnings:\n",
              "[1] Standard Errors assume that the covariance matrix of the errors is correctly specified.\n",
              "[2] The condition number is large, 1.27e+05. This might indicate that there are\n",
              "strong multicollinearity or other numerical problems.\n",
              "\"\"\""
            ]
          },
          "metadata": {
            "tags": []
          },
          "execution_count": 8
        }
      ]
    },
    {
      "cell_type": "code",
      "metadata": {
        "id": "sQjoOnOt3_7p",
        "colab_type": "code",
        "colab": {
          "base_uri": "https://localhost:8080/",
          "height": 509
        },
        "outputId": "485fbbf5-e0dd-43b8-903e-87ffebd9ddb2"
      },
      "source": [
        "# Now we want to see how good our OLS regression performs in sample\n",
        "# i.e. on the training data itself\n",
        "\n",
        "# Make predictions for the same dataset X_all\n",
        "Y_hat = regOls.predict(X_all)\n",
        "\n",
        "# The mean squared error\n",
        "mse_ols_sklearn  = mean_squared_error(Y_all,Y_hat)\n",
        "print('\\nMean squared error: ',mse_ols_sklearn)\n",
        "# The coefficient of determination: 1 is perfect prediction\n",
        "R2_ols_sklearn = r2_score(Y_all,Y_hat)\n",
        "print('Coefficient of determination: ',R2_ols_sklearn)\n",
        "\n",
        "# plot Y vs Y-hat\n",
        "h = sns.jointplot(Y_hat, Y_all, kind=\"hex\")\n",
        "h.set_axis_labels('Y predicted', 'Y true');"
      ],
      "execution_count": 9,
      "outputs": [
        {
          "output_type": "stream",
          "text": [
            "\n",
            "Mean squared error:  669.0920641940289\n",
            "Coefficient of determination:  0.44772019128724727\n"
          ],
          "name": "stdout"
        },
        {
          "output_type": "display_data",
          "data": {
            "image/png": "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\n",
            "text/plain": [
              "<Figure size 432x432 with 3 Axes>"
            ]
          },
          "metadata": {
            "tags": [],
            "needs_background": "light"
          }
        }
      ]
    },
    {
      "cell_type": "markdown",
      "metadata": {
        "id": "bh5EZajJsA8N",
        "colab_type": "text"
      },
      "source": [
        "Now we explore what consequences it has if a model overfitts. For this we generate interaction and squared terms and compare model performance in a training and test set approach."
      ]
    },
    {
      "cell_type": "code",
      "metadata": {
        "id": "9MgnKOu0M5xH",
        "colab_type": "code",
        "colab": {}
      },
      "source": [
        "np.random.seed(111)\n",
        "# Split the data into train and test data using sklearn train_test_split object\n",
        "#   (see: https://scikit-learn.org/stable/modules/generated/sklearn.model_selection.train_test_split.html)\n",
        "\n",
        "#   Note: This randomly split the data in 80% train and 20% test data\n",
        "X_train, X_test, Y_train, Y_test = train_test_split(X_all, Y_all, test_size = 0.2)"
      ],
      "execution_count": 10,
      "outputs": []
    },
    {
      "cell_type": "code",
      "metadata": {
        "id": "oZ3is0GFj8k8",
        "colab_type": "code",
        "colab": {}
      },
      "source": [
        "# In order to better illustrate the overfitting effects we \n",
        "# artificially reduce the training data size.  Why do we do this, in general \n",
        "# a larger sample size helps to reduce overfitting problems. With a smaller \n",
        "# sample size polynomials of order 2 of our variables are sufficient to show \n",
        "# the effects. With the full sample size we would need to consider much higher \n",
        "# polynomials to show the same effects. \n",
        "N = 2000\n",
        "X_train = X_train.iloc[:N,:]\n",
        "Y_train = Y_train.iloc[:N]\n"
      ],
      "execution_count": 11,
      "outputs": []
    },
    {
      "cell_type": "code",
      "metadata": {
        "id": "RZpKA77RMr2u",
        "colab_type": "code",
        "colab": {
          "base_uri": "https://localhost:8080/",
          "height": 35
        },
        "outputId": "71d30f34-95f7-463e-ae7b-37ffc3445db9"
      },
      "source": [
        "# Use an sklearn function to generate polynomials of order 2 \n",
        "# (square terms and interaction terms)\n",
        "# (see https://scikit-learn.org/stable/modules/generated/sklearn.preprocessing.PolynomialFeatures.html#sklearn.preprocessing.PolynomialFeatures.get_feature_names)\n",
        "poly = PolynomialFeatures(2)\n",
        "X_train_poly = poly.fit_transform(X_train)\n",
        "X_test_poly = poly.transform(X_test)\n",
        "print('Total number of avaliable features',X_train_poly.shape[1])\n",
        "lstFeatures = poly.get_feature_names()\n",
        "# Show feature names\n",
        "# list(lstFeatures)\n",
        "\n"
      ],
      "execution_count": 12,
      "outputs": [
        {
          "output_type": "stream",
          "text": [
            "Total number of avaliable features 91\n"
          ],
          "name": "stdout"
        }
      ]
    },
    {
      "cell_type": "code",
      "metadata": {
        "id": "3dKToEAbrNXk",
        "colab_type": "code",
        "colab": {
          "base_uri": "https://localhost:8080/",
          "height": 407
        },
        "outputId": "f4a94bad-a76e-41d8-81d6-f38a34f2cff4"
      },
      "source": [
        "# To explore overfitting we now run an small simulation...\n",
        "# For sequentially increase our model by adding on additional feature \n",
        "# to our model. In each case we estimate the model and obtain models stats\n",
        "# in the train and test set.\n",
        "\n",
        "# Prepare a dataframe to hold the results\n",
        "res = pd.DataFrame()\n",
        "\n",
        "# Each iteration add in one  additional variables\n",
        "for numVar in range(0,X_train_poly.shape[1]):\n",
        "\n",
        "  # Define the feature set for the iteration \n",
        "  X_train_subSet = X_train_poly[:,:numVar+1]\n",
        "  X_test_subSet = X_test_poly[:,:numVar+1]\n",
        "  \n",
        "  # Create linear regression object\n",
        "  regOls = LinearRegression(normalize=True)\n",
        "\n",
        "  # Train the model using the training sets\n",
        "  regOls.fit(X_train_subSet, Y_train)\n",
        "\n",
        "  # Get predicted values\n",
        "  Y_hat_train = regOls.predict(X_train_subSet)\n",
        "  Y_hat_test = regOls.predict(X_test_subSet)\n",
        "\n",
        "  # Store model stats \n",
        "  res.loc[f\"numVar_{numVar}\",'Number of X Variables'] = X_train_subSet.shape[1]\n",
        "  res.loc[f\"numVar_{numVar}\",'New Feature'] = lstFeatures[numVar]\n",
        "\n",
        "  # The mean squared error\n",
        "  res.loc[f\"numVar_{numVar}\",'MSE Train'] = mean_squared_error(Y_train,Y_hat_train)\n",
        "  res.loc[f\"numVar_{numVar}\",'MSE Test'] = mean_squared_error(Y_test,Y_hat_test)\n",
        "  # The coefficient of determination: 1 is perfect prediction\n",
        "  res.loc[f\"numVar_{numVar}\",'R2 train'] = r2_score(Y_train,Y_hat_train)\n",
        "  res.loc[f\"numVar_{numVar}\",'R2 test'] = r2_score(Y_test,Y_hat_test)\n",
        "\n",
        "\n",
        "# => The column \"New Feature\" says which feature was added in this iteration \n",
        "#    on top of all the other added before, starting with only a constant\n",
        "# => Have a look how R2 and MSE develops in the train and test set when \n",
        "#    increasing model complexity.\n",
        "res\n"
      ],
      "execution_count": 13,
      "outputs": [
        {
          "output_type": "execute_result",
          "data": {
            "text/html": [
              "<div>\n",
              "<style scoped>\n",
              "    .dataframe tbody tr th:only-of-type {\n",
              "        vertical-align: middle;\n",
              "    }\n",
              "\n",
              "    .dataframe tbody tr th {\n",
              "        vertical-align: top;\n",
              "    }\n",
              "\n",
              "    .dataframe thead th {\n",
              "        text-align: right;\n",
              "    }\n",
              "</style>\n",
              "<table border=\"1\" class=\"dataframe\">\n",
              "  <thead>\n",
              "    <tr style=\"text-align: right;\">\n",
              "      <th></th>\n",
              "      <th>Number of X Variables</th>\n",
              "      <th>New Feature</th>\n",
              "      <th>MSE Train</th>\n",
              "      <th>MSE Test</th>\n",
              "      <th>R2 train</th>\n",
              "      <th>R2 test</th>\n",
              "    </tr>\n",
              "  </thead>\n",
              "  <tbody>\n",
              "    <tr>\n",
              "      <th>numVar_0</th>\n",
              "      <td>1.0</td>\n",
              "      <td>1</td>\n",
              "      <td>1216.525636</td>\n",
              "      <td>1213.005815</td>\n",
              "      <td>0.000000</td>\n",
              "      <td>-0.000181</td>\n",
              "    </tr>\n",
              "    <tr>\n",
              "      <th>numVar_1</th>\n",
              "      <td>2.0</td>\n",
              "      <td>x0</td>\n",
              "      <td>1092.857849</td>\n",
              "      <td>1102.641178</td>\n",
              "      <td>0.101657</td>\n",
              "      <td>0.090820</td>\n",
              "    </tr>\n",
              "    <tr>\n",
              "      <th>numVar_2</th>\n",
              "      <td>3.0</td>\n",
              "      <td>x1</td>\n",
              "      <td>1091.452623</td>\n",
              "      <td>1101.598429</td>\n",
              "      <td>0.102812</td>\n",
              "      <td>0.091680</td>\n",
              "    </tr>\n",
              "    <tr>\n",
              "      <th>numVar_3</th>\n",
              "      <td>4.0</td>\n",
              "      <td>x2</td>\n",
              "      <td>956.060772</td>\n",
              "      <td>981.976805</td>\n",
              "      <td>0.214106</td>\n",
              "      <td>0.190314</td>\n",
              "    </tr>\n",
              "    <tr>\n",
              "      <th>numVar_4</th>\n",
              "      <td>5.0</td>\n",
              "      <td>x3</td>\n",
              "      <td>913.715950</td>\n",
              "      <td>929.376214</td>\n",
              "      <td>0.248914</td>\n",
              "      <td>0.233685</td>\n",
              "    </tr>\n",
              "    <tr>\n",
              "      <th>...</th>\n",
              "      <td>...</td>\n",
              "      <td>...</td>\n",
              "      <td>...</td>\n",
              "      <td>...</td>\n",
              "      <td>...</td>\n",
              "      <td>...</td>\n",
              "    </tr>\n",
              "    <tr>\n",
              "      <th>numVar_86</th>\n",
              "      <td>87.0</td>\n",
              "      <td>x9 x10</td>\n",
              "      <td>530.718203</td>\n",
              "      <td>42927.052274</td>\n",
              "      <td>0.563743</td>\n",
              "      <td>-34.395385</td>\n",
              "    </tr>\n",
              "    <tr>\n",
              "      <th>numVar_87</th>\n",
              "      <td>88.0</td>\n",
              "      <td>x9 x11</td>\n",
              "      <td>523.025791</td>\n",
              "      <td>43000.110736</td>\n",
              "      <td>0.570066</td>\n",
              "      <td>-34.455625</td>\n",
              "    </tr>\n",
              "    <tr>\n",
              "      <th>numVar_88</th>\n",
              "      <td>89.0</td>\n",
              "      <td>x10^2</td>\n",
              "      <td>518.977085</td>\n",
              "      <td>37915.027224</td>\n",
              "      <td>0.573394</td>\n",
              "      <td>-30.262733</td>\n",
              "    </tr>\n",
              "    <tr>\n",
              "      <th>numVar_89</th>\n",
              "      <td>90.0</td>\n",
              "      <td>x10 x11</td>\n",
              "      <td>517.769904</td>\n",
              "      <td>37210.556117</td>\n",
              "      <td>0.574386</td>\n",
              "      <td>-29.681864</td>\n",
              "    </tr>\n",
              "    <tr>\n",
              "      <th>numVar_90</th>\n",
              "      <td>91.0</td>\n",
              "      <td>x11^2</td>\n",
              "      <td>515.200839</td>\n",
              "      <td>40050.104395</td>\n",
              "      <td>0.576498</td>\n",
              "      <td>-32.023205</td>\n",
              "    </tr>\n",
              "  </tbody>\n",
              "</table>\n",
              "<p>91 rows × 6 columns</p>\n",
              "</div>"
            ],
            "text/plain": [
              "           Number of X Variables New Feature  ...  R2 train    R2 test\n",
              "numVar_0                     1.0           1  ...  0.000000  -0.000181\n",
              "numVar_1                     2.0          x0  ...  0.101657   0.090820\n",
              "numVar_2                     3.0          x1  ...  0.102812   0.091680\n",
              "numVar_3                     4.0          x2  ...  0.214106   0.190314\n",
              "numVar_4                     5.0          x3  ...  0.248914   0.233685\n",
              "...                          ...         ...  ...       ...        ...\n",
              "numVar_86                   87.0      x9 x10  ...  0.563743 -34.395385\n",
              "numVar_87                   88.0      x9 x11  ...  0.570066 -34.455625\n",
              "numVar_88                   89.0       x10^2  ...  0.573394 -30.262733\n",
              "numVar_89                   90.0     x10 x11  ...  0.574386 -29.681864\n",
              "numVar_90                   91.0       x11^2  ...  0.576498 -32.023205\n",
              "\n",
              "[91 rows x 6 columns]"
            ]
          },
          "metadata": {
            "tags": []
          },
          "execution_count": 13
        }
      ]
    },
    {
      "cell_type": "code",
      "metadata": {
        "id": "J13_mhypxJ25",
        "colab_type": "code",
        "colab": {
          "base_uri": "https://localhost:8080/",
          "height": 308
        },
        "outputId": "de8a7400-910c-4456-e1c0-ea3875770e4c"
      },
      "source": [
        "# Before we continue lets check if our simulation is correct, by comparing\n",
        "# row \"numVar_12\" from \"res\" with our statsmodel and sklearn that we have use above\n",
        "print('Results from statsmodel:')\n",
        "print('R2',olsStats_result.rsquared)\n",
        "print('MSE',olsStats_result.mse_resid)\n",
        "\n",
        "print('\\nResults from sklearn:')\n",
        "print('Mean squared error: ',mse_ols_sklearn)\n",
        "print('Coefficient of determination: ',R2_ols_sklearn)\n",
        "\n",
        "# Check that the results match our \"res\" data frame in row \"numVar_12\" which is\n",
        "# a linear model with all explantory variables\n",
        "print('\\nResults from row \"numVar_12\" from the \"res\" dataframe')\n",
        "print(res.loc['numVar_12',:])\n",
        "\n",
        "# => Note that in the simulation our X_train is a much smaller subsample \n",
        "#    of the full data set. Hence, we have some small variation but overall \n",
        "#   the result is very comparable "
      ],
      "execution_count": 14,
      "outputs": [
        {
          "output_type": "stream",
          "text": [
            "Results from statsmodel:\n",
            "R2 0.44772019128724727\n",
            "MSE 669.1268671438283\n",
            "\n",
            "Results from sklearn:\n",
            "Mean squared error:  669.0920641940289\n",
            "Coefficient of determination:  0.44772019128724727\n",
            "\n",
            "Results from row \"numVar_12\" from the \"res\" dataframe\n",
            "Number of X Variables          13\n",
            "New Feature                   x11\n",
            "MSE Train                 655.299\n",
            "MSE Test                  672.795\n",
            "R2 train                 0.461336\n",
            "R2 test                  0.445248\n",
            "Name: numVar_12, dtype: object\n"
          ],
          "name": "stdout"
        }
      ]
    },
    {
      "cell_type": "code",
      "metadata": {
        "id": "fI2i8omgj82L",
        "colab_type": "code",
        "colab": {
          "base_uri": "https://localhost:8080/",
          "height": 283
        },
        "outputId": "e42de9df-359b-4019-c52f-0e9034e93569"
      },
      "source": [
        "# Now back to our simulation results. To inspect the overfitting of the model\n",
        "# lets plot R2 and MSE against the number of variables in the model.\n",
        "\n",
        "# Start with R2\n",
        "fig, ax = plt.subplots()\n",
        "ax.plot(res['Number of X Variables'],res['R2 train'],label='train')\n",
        "ax.plot(res['Number of X Variables'],res['R2 test'],label='test')\n",
        "ax.set_ylabel('R2')\n",
        "ax.set_xlabel('number of variables')\n",
        "ax.set_ylim(0,1)\n",
        "ax.spines[\"top\"].set_visible(False)\n",
        "ax.spines[\"right\"].set_visible(False)\n",
        "ax.legend();\n",
        "\n",
        "# => Note that in same cases our R2 in the test set is negative, which means\n",
        "#    that our model is completely off..."
      ],
      "execution_count": 15,
      "outputs": [
        {
          "output_type": "display_data",
          "data": {
            "image/png": "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\n",
            "text/plain": [
              "<Figure size 432x288 with 1 Axes>"
            ]
          },
          "metadata": {
            "tags": [],
            "needs_background": "light"
          }
        }
      ]
    },
    {
      "cell_type": "code",
      "metadata": {
        "id": "zpJGleUmtu-U",
        "colab_type": "code",
        "colab": {
          "base_uri": "https://localhost:8080/",
          "height": 279
        },
        "outputId": "84da40f4-39bd-4507-eee2-c54989b0168d"
      },
      "source": [
        "# ... and MSE\n",
        "fig, ax = plt.subplots()\n",
        "ax.plot(res['Number of X Variables'],res['MSE Train'],label='train')\n",
        "ax.plot(res['Number of X Variables'],res['MSE Test'],label='test')\n",
        "ax.set_ylabel('MSE')\n",
        "ax.set_xlabel('number of variables')\n",
        "ax.spines[\"top\"].set_visible(False)\n",
        "ax.spines[\"right\"].set_visible(False)\n",
        "ax.legend();"
      ],
      "execution_count": 16,
      "outputs": [
        {
          "output_type": "display_data",
          "data": {
            "image/png": "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\n",
            "text/plain": [
              "<Figure size 432x288 with 1 Axes>"
            ]
          },
          "metadata": {
            "tags": [],
            "needs_background": "light"
          }
        }
      ]
    },
    {
      "cell_type": "markdown",
      "metadata": {
        "id": "1kgdF8lWQvfx",
        "colab_type": "text"
      },
      "source": [
        "Question: What can you conclude from the plots?"
      ]
    },
    {
      "cell_type": "code",
      "metadata": {
        "id": "uX9o1ITDyx_s",
        "colab_type": "code",
        "colab": {
          "base_uri": "https://localhost:8080/",
          "height": 435
        },
        "outputId": "60c10118-6ddb-446f-ef6f-9069d4879e4c"
      },
      "source": [
        "# Now, we can find the \"best\" specification from our simulation \n",
        "# by checking where R2 is highest in test set\n",
        "iRes = res.loc[res['R2 test']==res['R2 test'].max(),:]\n",
        "lstFeatures[:int(iRes['Number of X Variables'])]\n"
      ],
      "execution_count": 17,
      "outputs": [
        {
          "output_type": "execute_result",
          "data": {
            "text/plain": [
              "['1',\n",
              " 'x0',\n",
              " 'x1',\n",
              " 'x2',\n",
              " 'x3',\n",
              " 'x4',\n",
              " 'x5',\n",
              " 'x6',\n",
              " 'x7',\n",
              " 'x8',\n",
              " 'x9',\n",
              " 'x10',\n",
              " 'x11',\n",
              " 'x0^2',\n",
              " 'x0 x1',\n",
              " 'x0 x2',\n",
              " 'x0 x3',\n",
              " 'x0 x4',\n",
              " 'x0 x5',\n",
              " 'x0 x6',\n",
              " 'x0 x7',\n",
              " 'x0 x8',\n",
              " 'x0 x9']"
            ]
          },
          "metadata": {
            "tags": []
          },
          "execution_count": 17
        }
      ]
    },
    {
      "cell_type": "markdown",
      "metadata": {
        "id": "scih7Z_pQ105",
        "colab_type": "text"
      },
      "source": [
        "Question: Why might this not be the best model specification strategy???"
      ]
    },
    {
      "cell_type": "markdown",
      "metadata": {
        "id": "Xy4hWsgdQ6-f",
        "colab_type": "text"
      },
      "source": [
        "### Lets see how use Lasso could be used here"
      ]
    },
    {
      "cell_type": "code",
      "metadata": {
        "id": "qoVC3W4BRq-g",
        "colab_type": "code",
        "colab": {}
      },
      "source": [
        "# The idea is that instead of adding in one variable at a time, we use all\n",
        "# and let Lasso decide which ones to use. \n",
        "\n",
        "# It turns out that in order to get better results we need to make \n",
        "# the problem one step simpler for Lasso. If we use all polynomial terms, \n",
        "# Lasso has convergence issues, at least with the restricted sample size \n",
        "# that we used above. Apparently the problem is that our variables are too \n",
        "# correlated. However, we can also illustrate the apporoach by using only linear \n",
        "# and square terms (excluding the interaction terms).  "
      ],
      "execution_count": 18,
      "outputs": []
    },
    {
      "cell_type": "code",
      "metadata": {
        "id": "GTWCqeowEQ36",
        "colab_type": "code",
        "colab": {}
      },
      "source": [
        "# Get only the linear and square terms from the polynomials\n",
        "idxSq = list(range(0,13))+[lstFeatures.index(c) for c in lstFeatures if '^2' in c]\n",
        "lstColNames = [lstFeatures[i] for i in idxSq]\n",
        "X_trainSq = X_train_poly[:,idxSq]\n",
        "X_testSq = X_test_poly[:,idxSq]\n",
        "\n"
      ],
      "execution_count": 19,
      "outputs": []
    },
    {
      "cell_type": "code",
      "metadata": {
        "id": "dgptOE8SvOs4",
        "colab_type": "code",
        "colab": {}
      },
      "source": [
        "# Get actuall names for features instead of x1,...,x11\n",
        "# this is required for a plot further down...\n",
        "sCols = pd.Series(lstColNames)\n",
        "sCols = sCols.replace({'\\^2':'_sq'},regex=True)\n",
        "sCols = sCols.replace({'1':'const'},regex=False)\n",
        "dctReplace = {f\"x{i}\":lstX[i] for i in range(10,len(lstX))}\n",
        "sCols = sCols.replace(dctReplace,regex=True)\n",
        "dctReplace = {f\"x{i}\":lstX[i] for i in range(0,10)}\n",
        "sCols = sCols.replace(dctReplace,regex=True)\n",
        "lstColNames = sCols\n"
      ],
      "execution_count": 20,
      "outputs": []
    },
    {
      "cell_type": "code",
      "metadata": {
        "id": "pMT0EcKm-49Y",
        "colab_type": "code",
        "colab": {
          "base_uri": "https://localhost:8080/",
          "height": 72
        },
        "outputId": "be4c0563-2673-4e55-cc58-31e6224e6a36"
      },
      "source": [
        "# Create a list with alpha values that we want to test for our Lasso estimation\n",
        "# Note the alphas here are just the same as the penalty (lambda)\n",
        "lstAlpha = np.logspace(-16, -9, num = 10, base = 2)\n",
        "lstAlpha"
      ],
      "execution_count": 21,
      "outputs": [
        {
          "output_type": "execute_result",
          "data": {
            "text/plain": [
              "array([1.52587891e-05, 2.61610102e-05, 4.48527372e-05, 7.68994781e-05,\n",
              "       1.31843230e-04, 2.26043631e-04, 3.87549085e-04, 6.64448242e-04,\n",
              "       1.13918852e-03, 1.95312500e-03])"
            ]
          },
          "metadata": {
            "tags": []
          },
          "execution_count": 21
        }
      ]
    },
    {
      "cell_type": "code",
      "metadata": {
        "id": "pqPfDYY-GtEi",
        "colab_type": "code",
        "colab": {
          "base_uri": "https://localhost:8080/",
          "height": 877
        },
        "outputId": "268f756b-cca7-4fdb-8eaf-ff9b0f2f2e6c"
      },
      "source": [
        "# Now loop over the alphas, run a Lasso estimation and get the model stats \n",
       
        "\n",
        "# create a dataframe to hold model stats\n",
        "resLasso = pd.DataFrame()\n",
        "# creat a dataframe to hold coef\n",
        "resCoef = pd.DataFrame(columns=lstColNames)\n",
        "\n",
        "# Loop over a range of alpha value\n",
        "for alpha in lstAlpha:\n",
        "  print(alpha)\n",
        "  # Estimate Lasso\n",
        "  if alpha >0:\n",
        "    modLasso = Lasso(normalize=True, fit_intercept=True, alpha=alpha)\n",
        "  else:  \n",
        "    # in case of alpha = 0 use LinearRegression as recommended by sklearn\n",
        "    modLasso = LinearRegression(normalize=True, fit_intercept=True)\n",
        "  modLasso.fit(X_trainSq, Y_train)\n",
        "\n",
        "  # Get predicted values\n",
        "  Y_hat_train = modLasso.predict(X_trainSq)\n",
        "  Y_hat_test = modLasso.predict(X_testSq)\n",
        "\n",
        "  # Get model stats\n",
        "  resLasso.loc[f\"lasso_{alpha}\",'MSE Train'] = mean_squared_error(Y_train,Y_hat_train)\n",
        "  resLasso.loc[f\"lasso_{alpha}\",'MSE Test'] = mean_squared_error(Y_test,Y_hat_test)\n",
        "  # The coefficient of determination: 1 is perfect prediction\n",
        "  resLasso.loc[f\"lasso_{alpha}\",'R2 train'] = r2_score(Y_train,Y_hat_train)\n",
        "  resLasso.loc[f\"lasso_{alpha}\",'R2 test'] = r2_score(Y_test,Y_hat_test)\n",
        "  \n",
        "  resLasso.loc[f\"lasso_{alpha}\",'alpha'] = alpha\n",
        "\n",
        "  resCoef.loc[f'beta_hat_alpha{alpha}','alpha',] = alpha\n",
        "  resCoef.loc[f'beta_hat_alpha{alpha}',lstColNames] = modLasso.coef_.transpose()\n",
        "\n",
        "\n",
        "# => As you will see in the output, there are some value of alpha for which \n",
        "#   Lasso does not converge. This is not ideal but for our results we can \n",
        "#   ignore this for now.\n",
        "# => Again check how MSE and R2 developed for varying values of alpha\n",
        "\n",
        "resLasso"
      ],
      "execution_count": 22,
      "outputs": [
        {
          "output_type": "stream",
          "text": [
            "1.52587890625e-05\n",
            "2.6161010218904826e-05\n",
            "4.485273719102779e-05\n"
          ],
          "name": "stdout"
        },
        {
          "output_type": "stream",
          "text": [
            "/usr/local/lib/python3.6/dist-packages/sklearn/linear_model/_coordinate_descent.py:476: ConvergenceWarning: Objective did not converge. You might want to increase the number of iterations. Duality gap: 204792.61671928136, tolerance: 243.3051272034694\n",
            "  positive)\n",
            "/usr/local/lib/python3.6/dist-packages/sklearn/linear_model/_coordinate_descent.py:476: ConvergenceWarning: Objective did not converge. You might want to increase the number of iterations. Duality gap: 121472.55146182468, tolerance: 243.3051272034694\n",
            "  positive)\n",
            "/usr/local/lib/python3.6/dist-packages/sklearn/linear_model/_coordinate_descent.py:476: ConvergenceWarning: Objective did not converge. You might want to increase the number of iterations. Duality gap: 62065.61945965304, tolerance: 243.3051272034694\n",
            "  positive)\n"
          ],
          "name": "stderr"
        },
        {
          "output_type": "stream",
          "text": [
            "7.689947814299766e-05\n",
            "0.00013184322984525218\n",
            "0.00022604363092951433\n"
          ],
          "name": "stdout"
        },
        {
          "output_type": "stream",
          "text": [
            "/usr/local/lib/python3.6/dist-packages/sklearn/linear_model/_coordinate_descent.py:476: ConvergenceWarning: Objective did not converge. You might want to increase the number of iterations. Duality gap: 27643.18648493581, tolerance: 243.3051272034694\n",
            "  positive)\n",
            "/usr/local/lib/python3.6/dist-packages/sklearn/linear_model/_coordinate_descent.py:476: ConvergenceWarning: Objective did not converge. You might want to increase the number of iterations. Duality gap: 11016.104783599847, tolerance: 243.3051272034694\n",
            "  positive)\n",
            "/usr/local/lib/python3.6/dist-packages/sklearn/linear_model/_coordinate_descent.py:476: ConvergenceWarning: Objective did not converge. You might want to increase the number of iterations. Duality gap: 4064.455622448586, tolerance: 243.3051272034694\n",
            "  positive)\n"
          ],
          "name": "stderr"
        },
        {
          "output_type": "stream",
          "text": [
            "0.000387549084953174\n",
            "0.0006644482422726451\n",
            "0.0011391885152110507\n"
          ],
          "name": "stdout"
        },
        {
          "output_type": "stream",
          "text": [
            "/usr/local/lib/python3.6/dist-packages/sklearn/linear_model/_coordinate_descent.py:476: ConvergenceWarning: Objective did not converge. You might want to increase the number of iterations. Duality gap: 1452.1820482788607, tolerance: 243.3051272034694\n",
            "  positive)\n",
            "/usr/local/lib/python3.6/dist-packages/sklearn/linear_model/_coordinate_descent.py:476: ConvergenceWarning: Objective did not converge. You might want to increase the number of iterations. Duality gap: 684.3446799176745, tolerance: 243.3051272034694\n",
            "  positive)\n",
            "/usr/local/lib/python3.6/dist-packages/sklearn/linear_model/_coordinate_descent.py:476: ConvergenceWarning: Objective did not converge. You might want to increase the number of iterations. Duality gap: 264.6322461441159, tolerance: 243.3051272034694\n",
            "  positive)\n"
          ],
          "name": "stderr"
        },
        {
          "output_type": "stream",
          "text": [
            "0.001953125\n"
          ],
          "name": "stdout"
        },
        {
          "output_type": "execute_result",
          "data": {
            "text/html": [
              "<div>\n",
              "<style scoped>\n",
              "    .dataframe tbody tr th:only-of-type {\n",
              "        vertical-align: middle;\n",
              "    }\n",
              "\n",
              "    .dataframe tbody tr th {\n",
              "        vertical-align: top;\n",
              "    }\n",
              "\n",
              "    .dataframe thead th {\n",
              "        text-align: right;\n",
              "    }\n",
              "</style>\n",
              "<table border=\"1\" class=\"dataframe\">\n",
              "  <thead>\n",
              "    <tr style=\"text-align: right;\">\n",
              "      <th></th>\n",
              "      <th>MSE Train</th>\n",
              "      <th>MSE Test</th>\n",
              "      <th>R2 train</th>\n",
              "      <th>R2 test</th>\n",
              "      <th>alpha</th>\n",
              "    </tr>\n",
              "  </thead>\n",
              "  <tbody>\n",
              "    <tr>\n",
              "      <th>lasso_1.52587890625e-05</th>\n",
              "      <td>593.657261</td>\n",
              "      <td>627.688094</td>\n",
              "      <td>0.512006</td>\n",
              "      <td>0.482441</td>\n",
              "      <td>0.000015</td>\n",
              "    </tr>\n",
              "    <tr>\n",
              "      <th>lasso_2.6161010218904826e-05</th>\n",
              "      <td>593.660229</td>\n",
              "      <td>627.619396</td>\n",
              "      <td>0.512004</td>\n",
              "      <td>0.482498</td>\n",
              "      <td>0.000026</td>\n",
              "    </tr>\n",
              "    <tr>\n",
              "      <th>lasso_4.485273719102779e-05</th>\n",
              "      <td>593.668860</td>\n",
              "      <td>627.505851</td>\n",
              "      <td>0.511996</td>\n",
              "      <td>0.482592</td>\n",
              "      <td>0.000045</td>\n",
              "    </tr>\n",
              "    <tr>\n",
              "      <th>lasso_7.689947814299766e-05</th>\n",
              "      <td>593.694066</td>\n",
              "      <td>627.323643</td>\n",
              "      <td>0.511976</td>\n",
              "      <td>0.482742</td>\n",
              "      <td>0.000077</td>\n",
              "    </tr>\n",
              "    <tr>\n",
              "      <th>lasso_0.00013184322984525218</th>\n",
              "      <td>593.767876</td>\n",
              "      <td>627.047868</td>\n",
              "      <td>0.511915</td>\n",
              "      <td>0.482969</td>\n",
              "      <td>0.000132</td>\n",
              "    </tr>\n",
              "    <tr>\n",
              "      <th>lasso_0.00022604363092951433</th>\n",
              "      <td>593.984358</td>\n",
              "      <td>626.682714</td>\n",
              "      <td>0.511737</td>\n",
              "      <td>0.483270</td>\n",
              "      <td>0.000226</td>\n",
              "    </tr>\n",
              "    <tr>\n",
              "      <th>lasso_0.000387549084953174</th>\n",
              "      <td>594.619874</td>\n",
              "      <td>626.373121</td>\n",
              "      <td>0.511215</td>\n",
              "      <td>0.483526</td>\n",
              "      <td>0.000388</td>\n",
              "    </tr>\n",
              "    <tr>\n",
              "      <th>lasso_0.0006644482422726451</th>\n",
              "      <td>595.720439</td>\n",
              "      <td>625.881953</td>\n",
              "      <td>0.510310</td>\n",
              "      <td>0.483931</td>\n",
              "      <td>0.000664</td>\n",
              "    </tr>\n",
              "    <tr>\n",
              "      <th>lasso_0.0011391885152110507</th>\n",
              "      <td>598.108087</td>\n",
              "      <td>625.772255</td>\n",
              "      <td>0.508347</td>\n",
              "      <td>0.484021</td>\n",
              "      <td>0.001139</td>\n",
              "    </tr>\n",
              "    <tr>\n",
              "      <th>lasso_0.001953125</th>\n",
              "      <td>604.935875</td>\n",
              "      <td>629.384882</td>\n",
              "      <td>0.502735</td>\n",
              "      <td>0.481042</td>\n",
              "      <td>0.001953</td>\n",
              "    </tr>\n",
              "  </tbody>\n",
              "</table>\n",
              "</div>"
            ],
            "text/plain": [
              "                               MSE Train    MSE Test  ...   R2 test     alpha\n",
              "lasso_1.52587890625e-05       593.657261  627.688094  ...  0.482441  0.000015\n",
              "lasso_2.6161010218904826e-05  593.660229  627.619396  ...  0.482498  0.000026\n",
              "lasso_4.485273719102779e-05   593.668860  627.505851  ...  0.482592  0.000045\n",
              "lasso_7.689947814299766e-05   593.694066  627.323643  ...  0.482742  0.000077\n",
              "lasso_0.00013184322984525218  593.767876  627.047868  ...  0.482969  0.000132\n",
              "lasso_0.00022604363092951433  593.984358  626.682714  ...  0.483270  0.000226\n",
              "lasso_0.000387549084953174    594.619874  626.373121  ...  0.483526  0.000388\n",
              "lasso_0.0006644482422726451   595.720439  625.881953  ...  0.483931  0.000664\n",
              "lasso_0.0011391885152110507   598.108087  625.772255  ...  0.484021  0.001139\n",
              "lasso_0.001953125             604.935875  629.384882  ...  0.481042  0.001953\n",
              "\n",
              "[10 rows x 5 columns]"
            ]
          },
          "metadata": {
            "tags": []
          },
          "execution_count": 22
        }
      ]
    },
    {
      "cell_type": "code",
      "metadata": {
        "id": "P1XJUewDK9Z2",
        "colab_type": "code",
        "colab": {}
      },
      "source": [
        "# Get the \"best\" alpha by checking where R2 is highest in test set\n",
        "iRes = resLasso.loc[resLasso['R2 test']==resLasso['R2 test'].max(),:]\n",
        "print(iRes)\n"
        "alphaBest = iRes['alpha'][0]\n"
        "print('And we can see the "best" alpha is ', alphaBest)"
      ],
      "execution_count": 23,
      "outputs": []
    },
    {
      "cell_type": "code",
      "metadata": {
        "id": "kEqYSwBvIDqD",
        "colab_type": "code",
        "colab": {
          "base_uri": "https://localhost:8080/",
          "height": 308
        },
        "outputId": "ff8ff9ea-8459-4a5b-8721-969de20ebb07"
      },
      "source": [
        "# Plot result\n",
        "# Note: multipling min and max value by 0.99 and 1.01 so that the plot do not look so full\n",
        "rangeXLow = resLasso['MSE Train'].min()*0.99\n",
        "rangeXHigh = resLasso['MSE Test'].max()*1.01\n",
        "\n",
        "fig, ax = plt.subplots()\n",
        "ax.plot(resLasso['alpha'],resLasso['MSE Train'],label='train')\n",
        "ax.plot(resLasso['alpha'],resLasso['MSE Test'],label='test')\n",
        "ax.plot([alphaBest,alphaBest],[rangeXLow,rangeXHigh],label='\"best\" alpha',linestyle=':',color='black')\n",
        "ax.set_ylabel('MSE')\n",
        "ax.set_xlabel('alpha')\n",
        "ax.spines[\"top\"].set_visible(False)\n",
        "ax.spines[\"right\"].set_visible(False)\n",
        "ax.set_xticklabels([f\"{a:0.2E}\" for a in resLasso['alpha']], rotation=45)\n",
        "ax.set_ylim(rangeXLow,rangeXHigh)\n",
        "ax.legend();"
      ],
      "execution_count": 24,
      "outputs": [
        {
          "output_type": "display_data",
          "data": {
            "image/png": "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\n",
            "text/plain": [
              "<Figure size 432x288 with 1 Axes>"
            ]
          },
          "metadata": {
            "tags": [],
            "needs_background": "light"
          }
        }
      ]
    },
    {
      "cell_type": "code",
      "metadata": {
        "id": "wVGZFxZfpG6x",
        "colab_type": "code",
        "colab": {
          "base_uri": "https://localhost:8080/",
          "height": 583
        },
        "outputId": "b7cf5602-a721-44ff-e961-51da68e33472"
      },
      "source": [
        "# Repeat the simulation with a slightly larger alpha range\n",
        "# in order to prepare a plot with the estimated coefficients against alpha \n",
        "# Df to hold coef\n",
        "resCoef = pd.DataFrame(columns=lstColNames)\n",
        "\n",
        "# Loop over a range of alpha value\n",
        "for alpha in np.logspace(-16, 0, num = 10, base = 2):\n",
        "  # Estimate Lasso\n",
        "  if alpha >0:\n",
        "    modLasso = Lasso(normalize=True, fit_intercept=True, alpha=alpha)\n",
        "  else:  \n",
        "    # in case of alpha = 0 use LinearRegression as recommended by sklearn\n",
        "    modLasso = LinearRegression(normalize=True, fit_intercept=True)\n",
        "  modLasso.fit(X_trainSq, Y_train)\n",
        "\n",
        "  resCoef.loc[f'beta_hat_alpha{alpha}','alpha',] = alpha\n",
        "  resCoef.loc[f'beta_hat_alpha{alpha}',lstColNames] = modLasso.coef_.transpose()\n",
        "\n",
        "\n",
        "import plotly.graph_objects as go\n",
        "# Create traces\n",
        "fig = go.Figure()\n",
        "\n",
        "for strBeta in resCoef.columns[1:]:\n",
        "  # ax.plot(resCoef['alpha'],resPlot[strBeta],label=strBeta)\n",
        "  fig.add_trace(go.Scatter(x=resCoef['alpha'], y=resCoef[strBeta],\n",
        "                      mode='lines',\n",
        "                      name=strBeta))\n",
        "\n",
        "rangeYLow = resCoef.min().min()*0.99\n",
        "rangeYHigh = resCoef.max().max()*1.01\n",
        "fig.add_trace(go.Scatter(x=[alphaBest,alphaBest], y=[rangeYLow,rangeYHigh],\n",
        "                    mode='lines',\n",
        "                    name='bestAlpha',line=dict(color='black', dash='dash')))\n",
        "\n",
        "fig.update_layout(\n",
        "    width=800,\n",
        "    height=400,\n",
        "    xaxis_type=\"log\",\n",
        "    xaxis = dict(\n",
        "       autorange='reversed'\n",
        "    ),\n",
        "    yaxis = dict(\n",
        "       range=[rangeYLow,rangeYHigh],\n",
        "    )\n",
        ")\n",
        "fig.show()"
      ],
      "execution_count": 25,
      "outputs": [
        {
          "output_type": "stream",
          "text": [
            "/usr/local/lib/python3.6/dist-packages/sklearn/linear_model/_coordinate_descent.py:476: ConvergenceWarning: Objective did not converge. You might want to increase the number of iterations. Duality gap: 204792.61671928136, tolerance: 243.3051272034694\n",
            "  positive)\n",
            "/usr/local/lib/python3.6/dist-packages/sklearn/linear_model/_coordinate_descent.py:476: ConvergenceWarning: Objective did not converge. You might want to increase the number of iterations. Duality gap: 49909.75446997769, tolerance: 243.3051272034694\n",
            "  positive)\n",
            "/usr/local/lib/python3.6/dist-packages/sklearn/linear_model/_coordinate_descent.py:476: ConvergenceWarning: Objective did not converge. You might want to increase the number of iterations. Duality gap: 6276.286142324097, tolerance: 243.3051272034694\n",
            "  positive)\n",
            "/usr/local/lib/python3.6/dist-packages/sklearn/linear_model/_coordinate_descent.py:476: ConvergenceWarning: Objective did not converge. You might want to increase the number of iterations. Duality gap: 776.0249039749615, tolerance: 243.3051272034694\n",
            "  positive)\n"
          ],
          "name": "stderr"
        },
        {
          "output_type": "display_data",
          "data": {
            "text/html": [
              "<html>\n",
              "<head><meta charset=\"utf-8\" /></head>\n",
              "<body>\n",
              "    <div>\n",
              "            <script src=\"https://cdnjs.cloudflare.com/ajax/libs/mathjax/2.7.5/MathJax.js?config=TeX-AMS-MML_SVG\"></script><script type=\"text/javascript\">if (window.MathJax) {MathJax.Hub.Config({SVG: {font: \"STIX-Web\"}});}</script>\n",
              "                <script type=\"text/javascript\">window.PlotlyConfig = {MathJaxConfig: 'local'};</script>\n",
              "        <script src=\"https://cdn.plot.ly/plotly-latest.min.js\"></script>    \n",
              "            <div id=\"221ff348-60b2-4e59-abd6-78a947c54b96\" class=\"plotly-graph-div\" style=\"height:400px; width:800px;\"></div>\n",
              "            <script type=\"text/javascript\">\n",
              "                \n",
              "                    window.PLOTLYENV=window.PLOTLYENV || {};\n",
              "                    \n",
              "                if (document.getElementById(\"221ff348-60b2-4e59-abd6-78a947c54b96\")) {\n",
              "                    Plotly.newPlot(\n",
              "                        '221ff348-60b2-4e59-abd6-78a947c54b96',\n",
              "                        [{\"mode\": \"lines\", \"name\": \"wdpa_2017\", \"type\": \"scatter\", \"x\": [1.52587890625e-05, 5.232202043780965e-05, 0.00017941094876411116, 0.0006151958251439805, 0.002109491677524035, 0.0072333961897444584, 0.024803141437003108, 0.08504937501089847, 0.29163225989402897, 1.0], \"y\": [31.22604518134081, 29.745476121168657, 24.668678797573293, 12.624719723880242, 13.021626934805347, 12.964184697883196, 11.667998615732344, 6.597145278207727, 0.0, 0.0]}, {\"mode\": \"lines\", \"name\": \"population_2015\", \"type\": \"scatter\", \"x\": [1.52587890625e-05, 5.232202043780965e-05, 0.00017941094876411116, 0.0006151958251439805, 0.002109491677524035, 0.0072333961897444584, 0.024803141437003108, 0.08504937501089847, 0.29163225989402897, 1.0], \"y\": [-0.04732181683002465, -0.04676274120328726, -0.044845675932679185, -0.03834613364395247, -0.015454765014037985, -0.007430669726452077, -0.0, -0.0, -0.0, -0.0]}, {\"mode\": \"lines\", \"name\": \"chirps_2017\", \"type\": \"scatter\", \"x\": [1.52587890625e-05, 5.232202043780965e-05, 0.00017941094876411116, 0.0006151958251439805, 0.002109491677524035, 0.0072333961897444584, 0.024803141437003108, 0.08504937501089847, 0.29163225989402897, 1.0], \"y\": [-0.1318288828620249, -0.12995434279325044, -0.12352621414086566, -0.1020501974626119, -0.02773878976308644, 0.0, 0.0, 0.0, 0.0, 0.0]}, {\"mode\": \"lines\", \"name\": \"maize\", \"type\": \"scatter\", \"x\": [1.52587890625e-05, 5.232202043780965e-05, 0.00017941094876411116, 0.0006151958251439805, 0.002109491677524035, 0.0072333961897444584, 0.024803141437003108, 0.08504937501089847, 0.29163225989402897, 1.0], \"y\": [0.02319147179386627, 0.022959326924187895, 0.022163330843346034, 0.020072700359757664, 0.017136707927196824, 0.014628287556765344, 0.001821955987348106, 0.0, 0.0, 0.0]}, {\"mode\": \"lines\", \"name\": \"soy\", \"type\": \"scatter\", \"x\": [1.52587890625e-05, 5.232202043780965e-05, 0.00017941094876411116, 0.0006151958251439805, 0.002109491677524035, 0.0072333961897444584, 0.024803141437003108, 0.08504937501089847, 0.29163225989402897, 1.0], \"y\": [-0.05697437784562255, -0.05548954491275093, -0.05039819120774797, -0.03839041861036271, -0.015099844959635922, -0.006219961956626861, -0.0, -0.0, -0.0, -0.0]}, {\"mode\": \"lines\", \"name\": \"sugarcane\", \"type\": \"scatter\", \"x\": [1.52587890625e-05, 5.232202043780965e-05, 0.00017941094876411116, 0.0006151958251439805, 0.002109491677524035, 0.0072333961897444584, 0.024803141437003108, 0.08504937501089847, 0.29163225989402897, 1.0], \"y\": [0.017851690360472877, 0.017390994883524673, 0.015811317019272974, 0.011938856103373507, 0.0027324693823627512, -0.0, -0.0, 0.0, -0.0, -0.0]}, {\"mode\": \"lines\", \"name\": \"perm_water\", \"type\": \"scatter\", \"x\": [1.52587890625e-05, 5.232202043780965e-05, 0.00017941094876411116, 0.0006151958251439805, 0.002109491677524035, 0.0072333961897444584, 0.024803141437003108, 0.08504937501089847, 0.29163225989402897, 1.0], \"y\": [100.40374466131598, 95.68557844744055, 79.50702676276777, 19.898823979676052, -0.0, -0.0, -0.0, -0.0, -0.0, -0.0]}, {\"mode\": \"lines\", \"name\": \"travel_min\", \"type\": \"scatter\", \"x\": [1.52587890625e-05, 5.232202043780965e-05, 0.00017941094876411116, 0.0006151958251439805, 0.002109491677524035, 0.0072333961897444584, 0.024803141437003108, 0.08504937501089847, 0.29163225989402897, 1.0], \"y\": [0.032641901795068054, 0.03259520301377445, 0.032435074207208286, 0.03190948485553868, 0.0305761862838373, 0.0273110317014889, 0.020545937410058716, 0.02064183348407132, 0.010150134606621041, 0.0]}, {\"mode\": \"lines\", \"name\": \"cropland\", \"type\": \"scatter\", \"x\": [1.52587890625e-05, 5.232202043780965e-05, 0.00017941094876411116, 0.0006151958251439805, 0.002109491677524035, 0.0072333961897444584, 0.024803141437003108, 0.08504937501089847, 0.29163225989402897, 1.0], \"y\": [18.243985936056067, 18.157740891909654, 17.862024704278195, 16.879576993012552, 14.092242548306624, 0.0, 0.0, -0.0, -0.0, -0.0]}, {\"mode\": \"lines\", \"name\": \"mean_elev\", \"type\": \"scatter\", \"x\": [1.52587890625e-05, 5.232202043780965e-05, 0.00017941094876411116, 0.0006151958251439805, 0.002109491677524035, 0.0072333961897444584, 0.024803141437003108, 0.08504937501089847, 0.29163225989402897, 1.0], \"y\": [0.05962530134911117, 0.05853052728199347, 0.05477654461458513, 0.04237354837865389, 0.005257212340653487, -0.0, -0.0, -0.0, -0.0, -0.0]}, {\"mode\": \"lines\", \"name\": \"sd_elev\", \"type\": \"scatter\", \"x\": [1.52587890625e-05, 5.232202043780965e-05, 0.00017941094876411116, 0.0006151958251439805, 0.002109491677524035, 0.0072333961897444584, 0.024803141437003108, 0.08504937501089847, 0.29163225989402897, 1.0], \"y\": [0.8381434480170714, 0.8385123484081879, 0.839777128856819, 0.8403873374469283, 0.8178804349391146, 0.5969233763638849, 0.3111441348416714, 0.0, 0.0, 0.0]}, {\"mode\": \"lines\", \"name\": \"near_road\", \"type\": \"scatter\", \"x\": [1.52587890625e-05, 5.232202043780965e-05, 0.00017941094876411116, 0.0006151958251439805, 0.002109491677524035, 0.0072333961897444584, 0.024803141437003108, 0.08504937501089847, 0.29163225989402897, 1.0], \"y\": [0.2258116735804853, 0.22570360964229225, 0.22533324685029107, 0.22298844350165575, 0.2128609666472558, 0.14051223729265183, 0.09096755538461272, 0.09897798104104448, 0.015523316477161295, 0.0]}, {\"mode\": \"lines\", \"name\": \"wdpa_2017_sq\", \"type\": \"scatter\", \"x\": [1.52587890625e-05, 5.232202043780965e-05, 0.00017941094876411116, 0.0006151958251439805, 0.002109491677524035, 0.0072333961897444584, 0.024803141437003108, 0.08504937501089847, 0.29163225989402897, 1.0], \"y\": [-18.970690025326515, -17.461448889161204, -12.28633429423445, -0.0, 0.0, 0.0, 0.0, 0.0, 0.0, 0.0]}, {\"mode\": \"lines\", \"name\": \"population_2015_sq\", \"type\": \"scatter\", \"x\": [1.52587890625e-05, 5.232202043780965e-05, 0.00017941094876411116, 0.0006151958251439805, 0.002109491677524035, 0.0072333961897444584, 0.024803141437003108, 0.08504937501089847, 0.29163225989402897, 1.0], \"y\": [1.2463518086221867e-05, 1.2274425857375227e-05, 1.1626032195972391e-05, 9.445865910440878e-06, 1.6827445726406622e-06, -0.0, -0.0, -0.0, -0.0, -0.0]}, {\"mode\": \"lines\", \"name\": \"chirps_2017_sq\", \"type\": \"scatter\", \"x\": [1.52587890625e-05, 5.232202043780965e-05, 0.00017941094876411116, 0.0006151958251439805, 0.002109491677524035, 0.0072333961897444584, 0.024803141437003108, 0.08504937501089847, 0.29163225989402897, 1.0], \"y\": [4.435898123501382e-05, 4.384290328497056e-05, 4.207317660542628e-05, 3.61758580510419e-05, 1.579729936020062e-05, 7.728463906379217e-06, 4.956578307212968e-06, 8.04598137482021e-07, 0.0, 0.0]}, {\"mode\": \"lines\", \"name\": \"maize_sq\", \"type\": \"scatter\", \"x\": [1.52587890625e-05, 5.232202043780965e-05, 0.00017941094876411116, 0.0006151958251439805, 0.002109491677524035, 0.0072333961897444584, 0.024803141437003108, 0.08504937501089847, 0.29163225989402897, 1.0], \"y\": [-1.4702175561752925e-06, -1.4206120248398696e-06, -1.2505177291316136e-06, -8.004956137686288e-07, -0.0, 1.2316950218496746e-07, 8.579892900927294e-07, 0.0, 0.0, 0.0]}, {\"mode\": \"lines\", \"name\": \"soy_sq\", \"type\": \"scatter\", \"x\": [1.52587890625e-05, 5.232202043780965e-05, 0.00017941094876411116, 0.0006151958251439805, 0.002109491677524035, 0.0072333961897444584, 0.024803141437003108, 0.08504937501089847, 0.29163225989402897, 1.0], \"y\": [8.457309597023317e-06, 7.765913480718779e-06, 5.395176964122452e-06, -0.0, -1.0055856099305558e-05, -1.1255829553780398e-05, -4.863913460434204e-06, -0.0, -0.0, -0.0]}, {\"mode\": \"lines\", \"name\": \"sugarcane_sq\", \"type\": \"scatter\", \"x\": [1.52587890625e-05, 5.232202043780965e-05, 0.00017941094876411116, 0.0006151958251439805, 0.002109491677524035, 0.0072333961897444584, 0.024803141437003108, 0.08504937501089847, 0.29163225989402897, 1.0], \"y\": [-3.4554392027968154e-06, -3.3719063124465e-06, -3.08548157982687e-06, -2.3962188821852128e-06, -8.714604041341621e-07, -4.3096655342320296e-07, -0.0, -0.0, -0.0, -0.0]}, {\"mode\": \"lines\", \"name\": \"perm_water_sq\", \"type\": \"scatter\", \"x\": [1.52587890625e-05, 5.232202043780965e-05, 0.00017941094876411116, 0.0006151958251439805, 0.002109491677524035, 0.0072333961897444584, 0.024803141437003108, 0.08504937501089847, 0.29163225989402897, 1.0], \"y\": [-53.93566820295301, -52.06579643814488, -45.65401775391521, -22.27394081977099, -12.79247283965568, -9.692874684998914, -1.9536742764598982, -0.0, -0.0, -0.0]}, {\"mode\": \"lines\", \"name\": \"travel_min_sq\", \"type\": \"scatter\", \"x\": [1.52587890625e-05, 5.232202043780965e-05, 0.00017941094876411116, 0.0006151958251439805, 0.002109491677524035, 0.0072333961897444584, 0.024803141437003108, 0.08504937501089847, 0.29163225989402897, 1.0], \"y\": [-7.759143617466091e-06, -7.7314345615395e-06, -7.636420572384347e-06, -7.3165971900961905e-06, -6.326352519574492e-06, -3.970148343787536e-06, -0.0, 0.0, 0.0, 0.0]}, {\"mode\": \"lines\", \"name\": \"cropland_sq\", \"type\": \"scatter\", \"x\": [1.52587890625e-05, 5.232202043780965e-05, 0.00017941094876411116, 0.0006151958251439805, 0.002109491677524035, 0.0072333961897444584, 0.024803141437003108, 0.08504937501089847, 0.29163225989402897, 1.0], \"y\": [-27.632735277980835, -27.44470051094469, -26.79995342962131, -24.667688124712836, -18.230836569650073, -0.0, -0.0, -0.0, -0.0, -0.0]}, {\"mode\": \"lines\", \"name\": \"mean_elev_sq\", \"type\": \"scatter\", \"x\": [1.52587890625e-05, 5.232202043780965e-05, 0.00017941094876411116, 0.0006151958251439805, 0.002109491677524035, 0.0072333961897444584, 0.024803141437003108, 0.08504937501089847, 0.29163225989402897, 1.0], \"y\": [-9.083190743582094e-05, -8.983258000875641e-05, -8.640586778977581e-05, -7.479176680264115e-05, -3.760824190167257e-05, -3.204321019883024e-05, -3.7474927180846166e-05, -2.0033061299531182e-05, -0.0, -0.0]}, {\"mode\": \"lines\", \"name\": \"sd_elev_sq\", \"type\": \"scatter\", \"x\": [1.52587890625e-05, 5.232202043780965e-05, 0.00017941094876411116, 0.0006151958251439805, 0.002109491677524035, 0.0072333961897444584, 0.024803141437003108, 0.08504937501089847, 0.29163225989402897, 1.0], \"y\": [-0.004992665246227678, -0.004993185283094416, -0.004994966368329018, -0.004955876271185952, -0.004601747645375835, -0.0023598280256238737, 0.0, 0.0, 0.0, 0.0]}, {\"mode\": \"lines\", \"name\": \"near_road_sq\", \"type\": \"scatter\", \"x\": [1.52587890625e-05, 5.232202043780965e-05, 0.00017941094876411116, 0.0006151958251439805, 0.002109491677524035, 0.0072333961897444584, 0.024803141437003108, 0.08504937501089847, 0.29163225989402897, 1.0], \"y\": [-0.0007491110147649195, -0.0007463719583674089, -0.0007369803097338259, -0.0007053829616008242, -0.0005985626650614813, -0.000267670667439599, -0.0, 0.0, 0.0, 0.0]}, {\"mode\": \"lines\", \"name\": \"alpha\", \"type\": \"scatter\", \"x\": [1.52587890625e-05, 5.232202043780965e-05, 0.00017941094876411116, 0.0006151958251439805, 0.002109491677524035, 0.0072333961897444584, 0.024803141437003108, 0.08504937501089847, 0.29163225989402897, 1.0], \"y\": [1.52587890625e-05, 5.232202043780965e-05, 0.00017941094876411116, 0.0006151958251439805, 0.002109491677524035, 0.0072333961897444584, 0.024803141437003108, 0.08504937501089847, 0.29163225989402897, 1.0]}, {\"line\": {\"color\": \"black\", \"dash\": \"dash\"}, \"mode\": \"lines\", \"name\": \"bestAlpha\", \"type\": \"scatter\", \"x\": [0.0011391885152110507, 0.0011391885152110507], \"y\": [-53.39631152092348, 101.40778210792914]}],\n",
              "                        {\"height\": 400, \"template\": {\"data\": {\"bar\": [{\"error_x\": {\"color\": \"#2a3f5f\"}, \"error_y\": {\"color\": \"#2a3f5f\"}, \"marker\": {\"line\": {\"color\": \"#E5ECF6\", \"width\": 0.5}}, \"type\": \"bar\"}], \"barpolar\": [{\"marker\": {\"line\": {\"color\": \"#E5ECF6\", \"width\": 0.5}}, \"type\": \"barpolar\"}], \"carpet\": [{\"aaxis\": {\"endlinecolor\": \"#2a3f5f\", \"gridcolor\": \"white\", \"linecolor\": \"white\", \"minorgridcolor\": \"white\", \"startlinecolor\": \"#2a3f5f\"}, \"baxis\": {\"endlinecolor\": \"#2a3f5f\", \"gridcolor\": \"white\", \"linecolor\": \"white\", \"minorgridcolor\": \"white\", \"startlinecolor\": \"#2a3f5f\"}, \"type\": \"carpet\"}], \"choropleth\": [{\"colorbar\": {\"outlinewidth\": 0, \"ticks\": \"\"}, \"type\": \"choropleth\"}], \"contour\": [{\"colorbar\": {\"outlinewidth\": 0, \"ticks\": \"\"}, \"colorscale\": [[0.0, \"#0d0887\"], [0.1111111111111111, \"#46039f\"], [0.2222222222222222, \"#7201a8\"], [0.3333333333333333, \"#9c179e\"], [0.4444444444444444, \"#bd3786\"], [0.5555555555555556, \"#d8576b\"], [0.6666666666666666, \"#ed7953\"], [0.7777777777777778, \"#fb9f3a\"], [0.8888888888888888, \"#fdca26\"], [1.0, \"#f0f921\"]], \"type\": \"contour\"}], \"contourcarpet\": [{\"colorbar\": {\"outlinewidth\": 0, \"ticks\": \"\"}, \"type\": \"contourcarpet\"}], \"heatmap\": [{\"colorbar\": {\"outlinewidth\": 0, \"ticks\": \"\"}, \"colorscale\": [[0.0, \"#0d0887\"], [0.1111111111111111, \"#46039f\"], [0.2222222222222222, \"#7201a8\"], [0.3333333333333333, \"#9c179e\"], [0.4444444444444444, \"#bd3786\"], [0.5555555555555556, \"#d8576b\"], [0.6666666666666666, \"#ed7953\"], [0.7777777777777778, \"#fb9f3a\"], [0.8888888888888888, \"#fdca26\"], [1.0, \"#f0f921\"]], \"type\": \"heatmap\"}], \"heatmapgl\": [{\"colorbar\": {\"outlinewidth\": 0, \"ticks\": \"\"}, \"colorscale\": [[0.0, \"#0d0887\"], [0.1111111111111111, \"#46039f\"], [0.2222222222222222, \"#7201a8\"], [0.3333333333333333, \"#9c179e\"], [0.4444444444444444, \"#bd3786\"], [0.5555555555555556, \"#d8576b\"], [0.6666666666666666, \"#ed7953\"], [0.7777777777777778, \"#fb9f3a\"], [0.8888888888888888, \"#fdca26\"], [1.0, \"#f0f921\"]], \"type\": \"heatmapgl\"}], \"histogram\": [{\"marker\": {\"colorbar\": {\"outlinewidth\": 0, \"ticks\": \"\"}}, \"type\": \"histogram\"}], \"histogram2d\": [{\"colorbar\": {\"outlinewidth\": 0, \"ticks\": \"\"}, \"colorscale\": [[0.0, \"#0d0887\"], [0.1111111111111111, \"#46039f\"], [0.2222222222222222, \"#7201a8\"], [0.3333333333333333, \"#9c179e\"], [0.4444444444444444, \"#bd3786\"], [0.5555555555555556, \"#d8576b\"], [0.6666666666666666, \"#ed7953\"], [0.7777777777777778, \"#fb9f3a\"], [0.8888888888888888, \"#fdca26\"], [1.0, \"#f0f921\"]], \"type\": \"histogram2d\"}], \"histogram2dcontour\": [{\"colorbar\": {\"outlinewidth\": 0, \"ticks\": \"\"}, \"colorscale\": [[0.0, \"#0d0887\"], [0.1111111111111111, \"#46039f\"], [0.2222222222222222, \"#7201a8\"], [0.3333333333333333, \"#9c179e\"], [0.4444444444444444, \"#bd3786\"], [0.5555555555555556, \"#d8576b\"], [0.6666666666666666, \"#ed7953\"], [0.7777777777777778, \"#fb9f3a\"], [0.8888888888888888, \"#fdca26\"], [1.0, \"#f0f921\"]], \"type\": \"histogram2dcontour\"}], \"mesh3d\": [{\"colorbar\": {\"outlinewidth\": 0, \"ticks\": \"\"}, \"type\": \"mesh3d\"}], \"parcoords\": [{\"line\": {\"colorbar\": {\"outlinewidth\": 0, \"ticks\": \"\"}}, \"type\": \"parcoords\"}], \"pie\": [{\"automargin\": true, \"type\": \"pie\"}], \"scatter\": [{\"marker\": {\"colorbar\": {\"outlinewidth\": 0, \"ticks\": \"\"}}, \"type\": \"scatter\"}], \"scatter3d\": [{\"line\": {\"colorbar\": {\"outlinewidth\": 0, \"ticks\": \"\"}}, \"marker\": {\"colorbar\": {\"outlinewidth\": 0, \"ticks\": \"\"}}, \"type\": \"scatter3d\"}], \"scattercarpet\": [{\"marker\": {\"colorbar\": {\"outlinewidth\": 0, \"ticks\": \"\"}}, \"type\": \"scattercarpet\"}], \"scattergeo\": [{\"marker\": {\"colorbar\": {\"outlinewidth\": 0, \"ticks\": \"\"}}, \"type\": \"scattergeo\"}], \"scattergl\": [{\"marker\": {\"colorbar\": {\"outlinewidth\": 0, \"ticks\": \"\"}}, \"type\": \"scattergl\"}], \"scattermapbox\": [{\"marker\": {\"colorbar\": {\"outlinewidth\": 0, \"ticks\": \"\"}}, \"type\": \"scattermapbox\"}], \"scatterpolar\": [{\"marker\": {\"colorbar\": {\"outlinewidth\": 0, \"ticks\": \"\"}}, \"type\": \"scatterpolar\"}], \"scatterpolargl\": [{\"marker\": {\"colorbar\": {\"outlinewidth\": 0, \"ticks\": \"\"}}, \"type\": \"scatterpolargl\"}], \"scatterternary\": [{\"marker\": {\"colorbar\": {\"outlinewidth\": 0, \"ticks\": \"\"}}, \"type\": \"scatterternary\"}], \"surface\": [{\"colorbar\": {\"outlinewidth\": 0, \"ticks\": \"\"}, \"colorscale\": [[0.0, \"#0d0887\"], [0.1111111111111111, \"#46039f\"], [0.2222222222222222, \"#7201a8\"], [0.3333333333333333, \"#9c179e\"], [0.4444444444444444, \"#bd3786\"], [0.5555555555555556, \"#d8576b\"], [0.6666666666666666, \"#ed7953\"], [0.7777777777777778, \"#fb9f3a\"], [0.8888888888888888, \"#fdca26\"], [1.0, \"#f0f921\"]], \"type\": \"surface\"}], \"table\": [{\"cells\": {\"fill\": {\"color\": \"#EBF0F8\"}, \"line\": {\"color\": \"white\"}}, \"header\": {\"fill\": {\"color\": \"#C8D4E3\"}, \"line\": {\"color\": \"white\"}}, \"type\": \"table\"}]}, \"layout\": {\"annotationdefaults\": {\"arrowcolor\": \"#2a3f5f\", \"arrowhead\": 0, \"arrowwidth\": 1}, \"coloraxis\": {\"colorbar\": {\"outlinewidth\": 0, \"ticks\": \"\"}}, \"colorscale\": {\"diverging\": [[0, \"#8e0152\"], [0.1, \"#c51b7d\"], [0.2, \"#de77ae\"], [0.3, \"#f1b6da\"], [0.4, \"#fde0ef\"], [0.5, \"#f7f7f7\"], [0.6, \"#e6f5d0\"], [0.7, \"#b8e186\"], [0.8, \"#7fbc41\"], [0.9, \"#4d9221\"], [1, \"#276419\"]], \"sequential\": [[0.0, \"#0d0887\"], [0.1111111111111111, \"#46039f\"], [0.2222222222222222, \"#7201a8\"], [0.3333333333333333, \"#9c179e\"], [0.4444444444444444, \"#bd3786\"], [0.5555555555555556, \"#d8576b\"], [0.6666666666666666, \"#ed7953\"], [0.7777777777777778, \"#fb9f3a\"], [0.8888888888888888, \"#fdca26\"], [1.0, \"#f0f921\"]], \"sequentialminus\": [[0.0, \"#0d0887\"], [0.1111111111111111, \"#46039f\"], [0.2222222222222222, \"#7201a8\"], [0.3333333333333333, \"#9c179e\"], [0.4444444444444444, \"#bd3786\"], [0.5555555555555556, \"#d8576b\"], [0.6666666666666666, \"#ed7953\"], [0.7777777777777778, \"#fb9f3a\"], [0.8888888888888888, \"#fdca26\"], [1.0, \"#f0f921\"]]}, \"colorway\": [\"#636efa\", \"#EF553B\", \"#00cc96\", \"#ab63fa\", \"#FFA15A\", \"#19d3f3\", \"#FF6692\", \"#B6E880\", \"#FF97FF\", \"#FECB52\"], \"font\": {\"color\": \"#2a3f5f\"}, \"geo\": {\"bgcolor\": \"white\", \"lakecolor\": \"white\", \"landcolor\": \"#E5ECF6\", \"showlakes\": true, \"showland\": true, \"subunitcolor\": \"white\"}, \"hoverlabel\": {\"align\": \"left\"}, \"hovermode\": \"closest\", \"mapbox\": {\"style\": \"light\"}, \"paper_bgcolor\": \"white\", \"plot_bgcolor\": \"#E5ECF6\", \"polar\": {\"angularaxis\": {\"gridcolor\": \"white\", \"linecolor\": \"white\", \"ticks\": \"\"}, \"bgcolor\": \"#E5ECF6\", \"radialaxis\": {\"gridcolor\": \"white\", \"linecolor\": \"white\", \"ticks\": \"\"}}, \"scene\": {\"xaxis\": {\"backgroundcolor\": \"#E5ECF6\", \"gridcolor\": \"white\", \"gridwidth\": 2, \"linecolor\": \"white\", \"showbackground\": true, \"ticks\": \"\", \"zerolinecolor\": \"white\"}, \"yaxis\": {\"backgroundcolor\": \"#E5ECF6\", \"gridcolor\": \"white\", \"gridwidth\": 2, \"linecolor\": \"white\", \"showbackground\": true, \"ticks\": \"\", \"zerolinecolor\": \"white\"}, \"zaxis\": {\"backgroundcolor\": \"#E5ECF6\", \"gridcolor\": \"white\", \"gridwidth\": 2, \"linecolor\": \"white\", \"showbackground\": true, \"ticks\": \"\", \"zerolinecolor\": \"white\"}}, \"shapedefaults\": {\"line\": {\"color\": \"#2a3f5f\"}}, \"ternary\": {\"aaxis\": {\"gridcolor\": \"white\", \"linecolor\": \"white\", \"ticks\": \"\"}, \"baxis\": {\"gridcolor\": \"white\", \"linecolor\": \"white\", \"ticks\": \"\"}, \"bgcolor\": \"#E5ECF6\", \"caxis\": {\"gridcolor\": \"white\", \"linecolor\": \"white\", \"ticks\": \"\"}}, \"title\": {\"x\": 0.05}, \"xaxis\": {\"automargin\": true, \"gridcolor\": \"white\", \"linecolor\": \"white\", \"ticks\": \"\", \"title\": {\"standoff\": 15}, \"zerolinecolor\": \"white\", \"zerolinewidth\": 2}, \"yaxis\": {\"automargin\": true, \"gridcolor\": \"white\", \"linecolor\": \"white\", \"ticks\": \"\", \"title\": {\"standoff\": 15}, \"zerolinecolor\": \"white\", \"zerolinewidth\": 2}}}, \"width\": 800, \"xaxis\": {\"autorange\": \"reversed\", \"type\": \"log\"}, \"yaxis\": {\"range\": [-53.39631152092348, 101.40778210792914]}},\n",
              "                        {\"responsive\": true}\n",
              "                    ).then(function(){\n",
              "                            \n",
              "var gd = document.getElementById('221ff348-60b2-4e59-abd6-78a947c54b96');\n",
              "var x = new MutationObserver(function (mutations, observer) {{\n",
              "        var display = window.getComputedStyle(gd).display;\n",
              "        if (!display || display === 'none') {{\n",
              "            console.log([gd, 'removed!']);\n",
              "            Plotly.purge(gd);\n",
              "            observer.disconnect();\n",
              "        }}\n",
              "}});\n",
              "\n",
              "// Listen for the removal of the full notebook cells\n",
              "var notebookContainer = gd.closest('#notebook-container');\n",
              "if (notebookContainer) {{\n",
              "    x.observe(notebookContainer, {childList: true});\n",
              "}}\n",
              "\n",
              "// Listen for the clearing of the current output cell\n",
              "var outputEl = gd.closest('.output');\n",
              "if (outputEl) {{\n",
              "    x.observe(outputEl, {childList: true});\n",
              "}}\n",
              "\n",
              "                        })\n",
              "                };\n",
              "                \n",
              "            </script>\n",
              "        </div>\n",
              "</body>\n",
              "</html>"
            ]
          },
          "metadata": {
            "tags": []
          }
        }
      ]
    },
    {
      "cell_type": "markdown",
      "metadata": {
        "id": "JZm0tXJ8DLDM",
        "colab_type": "text"
      },
      "source": [
        "# Day 1 Lab"
      ]
    },
    {
      "cell_type": "markdown",
      "metadata": {
        "id": "czQzN5tNDZua",
        "colab_type": "text"
      },
      "source": [
        "Today's lab will have you run an OLS and LASSO regression using the deforestation data you saw in the introduction slides and in the lecture. \n",
        "\n",
        "Above we have restricted the training data artifically to a very small subset for the data set. Try to do the steps below with the full training data set. \n",
        "There are also a couple of more spatial variables that you could add to your \n",
        "specification and see if this has an effect."
      ]
    },
    {
      "cell_type": "code",
      "metadata": {
        "id": "qNV3ydfhzu-0",
        "colab_type": "code",
        "colab": {}
      },
      "source": [
        "# Additional variables not included above\n",
        "# => check if you can include the model by including some of those\n",
        "  # 'wdpa_2017_lag_1st_order',\n",
        "  # 'chirps_2017_lag_1st_order',\n",
        "  # 'population_2015_lag_1st_order',\n",
        "  # 'maize_lag_1st_order',\n",
        "  # 'soy_lag_1st_order',\n",
        "  # 'sugarcane_lag_1st_order',\n",
        "  # 'perm_water_lag_1st_order',\n",
        "  # 'travel_min_lag_1st_order',\n",
        "  # 'cropland_lag_1st_order',\n",
        "  # 'mean_elev_lag_1st_order',\n",
        "  # 'sd_elev_lag_1st_order',\n",
        "  # 'near_road_lag_1st_order',\n"
      ],
      "execution_count": null,
      "outputs": []
    },
    {
      "cell_type": "code",
      "metadata": {
        "id": "u7l5mTf1zRwh",
        "colab_type": "code",
        "colab": {}
      },
      "source": [
        "# If you haven't already, load the deforestation following the code above."
      ],
      "execution_count": null,
      "outputs": []
    },
    {
      "cell_type": "code",
      "metadata": {
        "id": "mXKxlWM3DQ6D",
        "colab_type": "code",
        "colab": {}
      },
      "source": [
        "# split the data into a train and test set as above"
      ],
      "execution_count": null,
      "outputs": []
    },
    {
      "cell_type": "markdown",
      "metadata": {
        "id": "Li2Hqwl_GC8F",
        "colab_type": "text"
      },
      "source": [
        "1.  Run an OLS model to predict percent forest cover (feel free to choose your own specification)"
      ]
    },
    {
      "cell_type": "code",
      "metadata": {
        "id": "DIcyoZV8D4dz",
        "colab_type": "code",
        "colab": {}
      },
      "source": [
        "# run OLS using a specification of your choice\n",
        "# create an OLS object as above..."
      ],
      "execution_count": null,
      "outputs": []
    },
    {
      "cell_type": "markdown",
      "metadata": {
        "id": "VuS6740VGRxR",
        "colab_type": "text"
      },
      "source": [
        "2. Generate predictions from your model and evaluate model fit"
      ]
    },
    {
      "cell_type": "code",
      "metadata": {
        "id": "pgiV7WjZDw7d",
        "colab_type": "code",
        "colab": {}
      },
      "source": [
        "# generate the predicted forest cover level and compare it to the actual forest cover in the test set "
      ],
      "execution_count": null,
      "outputs": []
    },
    {
      "cell_type": "code",
      "metadata": {
        "id": "WrFTs0h0EIey",
        "colab_type": "code",
        "colab": {}
      },
      "source": [
        "# plot predicted versus actual forest cover and produce measures of model fit"
      ],
      "execution_count": null,
      "outputs": []
    },
    {
      "cell_type": "markdown",
      "metadata": {
        "id": "lYkF2bMzGbrA",
        "colab_type": "text"
      },
      "source": [
        "3.  Now run the same specification using a LASSO"
      ]
    },
    {
      "cell_type": "code",
      "metadata": {
        "id": "RbAtwaimEVlj",
        "colab_type": "code",
        "colab": {}
      },
      "source": [
        "# generate a LASSO function from sklearn"
      ],
      "execution_count": null,
      "outputs": []
    },
    {
      "cell_type": "code",
      "metadata": {
        "id": "d8Pkscz1EqfO",
        "colab_type": "code",
        "colab": {}
      },
      "source": [
        "# use the same model as your OLS, and run"
      ],
      "execution_count": null,
      "outputs": []
    },
    {
      "cell_type": "markdown",
      "metadata": {
        "id": "H8u_-k9XG3zF",
        "colab_type": "text"
      },
      "source": [
        "4. Generate the predicted deforestation from your model and compare to the actual deforestation in the test set"
      ]
    },
    {
      "cell_type": "markdown",
      "metadata": {
        "id": "bZR-HB4KFLXb",
        "colab_type": "text"
      },
      "source": [
        "5. Now change your lambda and repeat.  \n",
        "What happens as you increase your lambda? As you decrease your lambda? Are the results more or less similar to your OLS results?"
      ]
    },
    {
      "cell_type": "code",
      "metadata": {
        "id": "ZgEa3CU-Ex7C",
        "colab_type": "code",
        "colab": {}
      },
      "source": [
        "# change the lambda and repeat"
      ],
      "execution_count": null,
      "outputs": []
    },
    {
      "cell_type": "markdown",
      "metadata": {
        "id": "3Ibc4jRQh-5w",
        "colab_type": "text"
      },
      "source": [
        "6. Plot the bias and variance as the lambda decreases (and the model complexity increases)"
      ]
    },
    {
      "cell_type": "markdown",
      "metadata": {
        "id": "2G6etdypjcnI",
        "colab_type": "text"
      },
      "source": [
        "7. Replicate the plot on the coefficient estimates against the shrinkage factor (on slide 24)"
      ]
    },
    {
      "cell_type": "markdown",
      "metadata": {
        "id": "sBE-pVQGFUwE",
        "colab_type": "text"
      },
      "source": [
        "8. (Optional) So far we are just choosing our training and test set randomly.  Is this valid if there is high spatial correlation?  (if you like) try splitting your data based on latitude and re-run the OLS and the LASSO.  Do you expect your results to be better or worse than using the random split?"
      ]
    },
    {
      "cell_type": "code",
      "metadata": {
        "id": "2uvIS2VDE0KS",
        "colab_type": "code",
        "colab": {}
      },
      "source": [
        "# set a cut-point in the latitude variable to split data into a train and test set"
      ],
      "execution_count": null,
      "outputs": []
    },
    {
      "cell_type": "code",
      "metadata": {
        "id": "wRicA12RICPA",
        "colab_type": "code",
        "colab": {}
      },
      "source": [
        "# re-run OLS and LASSO models using this new train and test set"
      ],
      "execution_count": null,
      "outputs": []
    }
  ]
}
